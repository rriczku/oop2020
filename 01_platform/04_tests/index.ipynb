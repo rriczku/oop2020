{
 "cells": [
  {
   "cell_type": "markdown",
   "metadata": {},
   "source": [
    "# OOP 2020"
   ]
  },
  {
   "cell_type": "markdown",
   "metadata": {},
   "source": [
    "## 1. Platform"
   ]
  },
  {
   "cell_type": "markdown",
   "metadata": {},
   "source": [
    "### 1.4. Tests"
   ]
  },
  {
   "cell_type": "markdown",
   "metadata": {},
   "source": [
    "In this exercise, the [Goole Test](https://github.com/google/googletest/blob/release-1.10.0/googletest/docs/primer.md) project will be downloaded, compiled and used to create unit tests."
   ]
  },
  {
   "cell_type": "markdown",
   "metadata": {},
   "source": [
    "#### Cloning the Google Test project"
   ]
  },
  {
   "cell_type": "markdown",
   "metadata": {},
   "source": [
    "First, remove the ```googletest``` directory if present:"
   ]
  },
  {
   "cell_type": "code",
   "execution_count": 2,
   "metadata": {},
   "outputs": [],
   "source": [
    "! rm -rf googletest"
   ]
  },
  {
   "cell_type": "markdown",
   "metadata": {},
   "source": [
    "Clone the [google/googletest](https://github.com/google/googletest) repository tag [release-1.10.0](https://github.com/google/googletest/tree/release-1.10.0): "
   ]
  },
  {
   "cell_type": "code",
   "execution_count": 3,
   "metadata": {},
   "outputs": [
    {
     "name": "stdout",
     "output_type": "stream",
     "text": [
      "Cloning into 'googletest'...\n",
      "remote: Enumerating objects: 288, done.\u001b[K\n",
      "remote: Counting objects: 100% (288/288), done.\u001b[K\n",
      "remote: Compressing objects: 100% (272/272), done.\u001b[K\n",
      "remote: Total 288 (delta 87), reused 40 (delta 11), pack-reused 0\u001b[K\n",
      "Receiving objects: 100% (288/288), 987.43 KiB | 853.00 KiB/s, done.\n",
      "Resolving deltas: 100% (87/87), done.\n",
      "Note: switching to '703bd9caab50b139428cea1aaff9974ebee5742e'.\n",
      "\n",
      "You are in 'detached HEAD' state. You can look around, make experimental\n",
      "changes and commit them, and you can discard any commits you make in this\n",
      "state without impacting any branches by switching back to a branch.\n",
      "\n",
      "If you want to create a new branch to retain commits you create, you may\n",
      "do so (now or later) by using -c with the switch command. Example:\n",
      "\n",
      "  git switch -c <new-branch-name>\n",
      "\n",
      "Or undo this operation with:\n",
      "\n",
      "  git switch -\n",
      "\n",
      "Turn off this advice by setting config variable advice.detachedHead to false\n",
      "\n"
     ]
    }
   ],
   "source": [
    "! git clone --depth=1 --branch=release-1.10.0 https://github.com/google/googletest.git"
   ]
  },
  {
   "cell_type": "markdown",
   "metadata": {},
   "source": [
    "Remove not needed GIT data:"
   ]
  },
  {
   "cell_type": "code",
   "execution_count": 5,
   "metadata": {},
   "outputs": [],
   "source": [
    "! rm -rf googletest/.git"
   ]
  },
  {
   "cell_type": "markdown",
   "metadata": {},
   "source": [
    "#### Compiling the Google Test project"
   ]
  },
  {
   "cell_type": "code",
   "execution_count": 6,
   "metadata": {},
   "outputs": [
    {
     "name": "stdout",
     "output_type": "stream",
     "text": [
      "-- The C compiler identification is GNU 9.3.0\n",
      "-- The CXX compiler identification is GNU 9.3.0\n",
      "-- Check for working C compiler: /usr/bin/cc\n",
      "-- Check for working C compiler: /usr/bin/cc -- works\n",
      "-- Detecting C compiler ABI info\n",
      "-- Detecting C compiler ABI info - done\n",
      "-- Detecting C compile features\n",
      "-- Detecting C compile features - done\n",
      "-- Check for working CXX compiler: /usr/bin/c++\n",
      "-- Check for working CXX compiler: /usr/bin/c++ -- works\n",
      "-- Detecting CXX compiler ABI info\n",
      "-- Detecting CXX compiler ABI info - done\n",
      "-- Detecting CXX compile features\n",
      "-- Detecting CXX compile features - done\n",
      "-- Found PythonInterp: /home/student/.miniconda3/bin/python (found version \"3.8.3\") \n",
      "-- Looking for pthread.h\n",
      "-- Looking for pthread.h - found\n",
      "-- Performing Test CMAKE_HAVE_LIBC_PTHREAD\n",
      "-- Performing Test CMAKE_HAVE_LIBC_PTHREAD - Failed\n",
      "-- Looking for pthread_create in pthreads\n",
      "-- Looking for pthread_create in pthreads - not found\n",
      "-- Looking for pthread_create in pthread\n",
      "-- Looking for pthread_create in pthread - found\n",
      "-- Found Threads: TRUE  \n",
      "-- Configuring done\n",
      "-- Generating done\n",
      "-- Build files have been written to: /home/student/oop_2020_jakub_rychlicki/01_platform/04_tests/googletest/build\n",
      "\u001b[35m\u001b[1mScanning dependencies of target gtest\u001b[0m\n",
      "[ 12%] \u001b[32mBuilding CXX object googletest/CMakeFiles/gtest.dir/src/gtest-all.cc.o\u001b[0m\n",
      "[ 25%] \u001b[32m\u001b[1mLinking CXX static library ../lib/libgtest.a\u001b[0m\n",
      "[ 25%] Built target gtest\n",
      "\u001b[35m\u001b[1mScanning dependencies of target gmock\u001b[0m\n",
      "\u001b[35m\u001b[1mScanning dependencies of target gtest_main\u001b[0m\n",
      "[ 37%] \u001b[32mBuilding CXX object googletest/CMakeFiles/gtest_main.dir/src/gtest_main.cc.o\u001b[0m\n",
      "[ 50%] \u001b[32mBuilding CXX object googlemock/CMakeFiles/gmock.dir/src/gmock-all.cc.o\u001b[0m\n",
      "[ 62%] \u001b[32m\u001b[1mLinking CXX static library ../lib/libgtest_main.a\u001b[0m\n",
      "[ 62%] Built target gtest_main\n",
      "[ 75%] \u001b[32m\u001b[1mLinking CXX static library ../lib/libgmock.a\u001b[0m\n",
      "[ 75%] Built target gmock\n",
      "\u001b[35m\u001b[1mScanning dependencies of target gmock_main\u001b[0m\n",
      "[ 87%] \u001b[32mBuilding CXX object googlemock/CMakeFiles/gmock_main.dir/src/gmock_main.cc.o\u001b[0m\n",
      "[100%] \u001b[32m\u001b[1mLinking CXX static library ../lib/libgmock_main.a\u001b[0m\n",
      "[100%] Built target gmock_main\n"
     ]
    }
   ],
   "source": [
    "! cd googletest && mkdir build && cd build && cmake ../ && make -j4"
   ]
  },
  {
   "cell_type": "markdown",
   "metadata": {},
   "source": [
    "In the later parts of the exercasie you will have to use the compiled ```libgtest.a``` and ```libgtest_main.a``` libraries:"
   ]
  },
  {
   "cell_type": "code",
   "execution_count": 7,
   "metadata": {},
   "outputs": [
    {
     "name": "stdout",
     "output_type": "stream",
     "text": [
      "googletest/build/lib/libgtest.a\r\n",
      "googletest/build/lib/libgtest_main.a\r\n"
     ]
    }
   ],
   "source": [
    "! find googletest/build -name lib*gtest*.a"
   ]
  },
  {
   "cell_type": "markdown",
   "metadata": {},
   "source": [
    "And the ```gtest/gtest.h``` header file:"
   ]
  },
  {
   "cell_type": "code",
   "execution_count": 8,
   "metadata": {},
   "outputs": [
    {
     "name": "stdout",
     "output_type": "stream",
     "text": [
      "googletest/googletest/include/gtest/gtest.h\r\n"
     ]
    }
   ],
   "source": [
    "! find googletest -name gtest.h | grep -v internal"
   ]
  },
  {
   "cell_type": "markdown",
   "metadata": {},
   "source": [
    "#### Compiling simple test"
   ]
  },
  {
   "cell_type": "markdown",
   "metadata": {},
   "source": [
    "First, add ```main.cpp``` file to the project. The file should contain following code:\n",
    "\n",
    "```c++\n",
    "#include <gtest/gtest.h>\n",
    "\n",
    "class Calculator {\n",
    "public:\n",
    "\n",
    "    Calculator(int a, int b) : a(a), b(b) {}\n",
    "\n",
    "    int add() const {\n",
    "        return a + b;\n",
    "    }\n",
    "\n",
    "private:\n",
    "    int a;\n",
    "    int b;\n",
    "};\n",
    "\n",
    "TEST(Calculator, Add) {\n",
    "\n",
    "    Calculator calculator{1, 2};\n",
    "    EXPECT_EQ(3, calculator.add());\n",
    "}\n",
    "```\n",
    "\n",
    "The task is to compile and run the code by modifying only the ```CMakeLists.txt``` file."
   ]
  },
  {
   "cell_type": "code",
   "execution_count": null,
   "metadata": {},
   "outputs": [
    {
     "name": "stdout",
     "output_type": "stream",
     "text": [
      "OpenJDK 64-Bit Server VM warning: Option UseConcMarkSweepGC was deprecated in version 9.0 and will likely be removed in a future release.\n",
      "2020-11-03 16:24:33,732 [  36563]   WARN - pl.local.NativeFileWatcherImpl - Watcher terminated with exit code 3 \n",
      "2020-11-03 16:24:33,946 [  36777]   WARN - pl.local.NativeFileWatcherImpl - Watcher terminated with exit code 3 \n",
      "2020-11-03 16:24:34,080 [  36911]   WARN - pl.local.NativeFileWatcherImpl - Watcher terminated with exit code 3 \n",
      "2020-11-03 16:24:34,229 [  37060]   WARN - pl.local.NativeFileWatcherImpl - Watcher terminated with exit code 3 \n",
      "2020-11-03 16:24:34,335 [  37166]   WARN - pl.local.NativeFileWatcherImpl - Watcher terminated with exit code 3 \n",
      "2020-11-03 16:24:34,473 [  37304]   WARN - pl.local.NativeFileWatcherImpl - Watcher terminated with exit code 3 \n",
      "2020-11-03 16:24:34,637 [  37468]   WARN - pl.local.NativeFileWatcherImpl - Watcher terminated with exit code 3 \n",
      "2020-11-03 16:24:34,752 [  37583]   WARN - pl.local.NativeFileWatcherImpl - Watcher terminated with exit code 3 \n",
      "2020-11-03 16:24:34,903 [  37734]   WARN - pl.local.NativeFileWatcherImpl - Watcher terminated with exit code 3 \n",
      "2020-11-03 16:24:35,068 [  37899]   WARN - pl.local.NativeFileWatcherImpl - Watcher terminated with exit code 3 \n",
      "2020-11-03 16:24:35,082 [  37913]   WARN - api.vfs.impl.local.FileWatcher - File watcher failed to start \n"
     ]
    }
   ],
   "source": [
    "! clion project"
   ]
  },
  {
   "cell_type": "markdown",
   "metadata": {},
   "source": [
    "#### Project structure"
   ]
  },
  {
   "cell_type": "markdown",
   "metadata": {},
   "source": [
    "The structure of the project should be changed into:\n",
    "\n",
    "```\n",
    "project/\n",
    "├── CMakeLists.txt\n",
    "├── include\n",
    "│   └── Calculator.h\n",
    "├── src\n",
    "│   ├── Calculator.cpp\n",
    "│   └── main.cpp\n",
    "└── tests\n",
    "    ├── CMakeLists.txt\n",
    "    └── src\n",
    "        └── CalculatorTest.cpp\n",
    "\n",
    "4 directories, 6 files\n",
    "```"
   ]
  },
  {
   "cell_type": "markdown",
   "metadata": {},
   "source": [
    "The ```include/Calculator.h``` should contain:\n",
    "\n",
    "```c++\n",
    "#pragma once\n",
    "\n",
    "class Calculator {\n",
    "public:\n",
    "\n",
    "    Calculator(int a, int b);\n",
    "\n",
    "    int add() const;\n",
    "\n",
    "private:\n",
    "    int a;\n",
    "    int b;\n",
    "};\n",
    "```"
   ]
  },
  {
   "cell_type": "markdown",
   "metadata": {},
   "source": [
    "The ```src/Calculator.cpp```:\n",
    "\n",
    "```c++\n",
    "#include \"Calculator.h\"\n",
    "\n",
    "Calculator::Calculator(int a, int b) : a(a), b(b) {}\n",
    "\n",
    "int Calculator::add() const {\n",
    "    return a + b;\n",
    "}\n",
    "```"
   ]
  },
  {
   "cell_type": "markdown",
   "metadata": {},
   "source": [
    "The ```src/main.cpp```:\n",
    "\n",
    "```c++\n",
    "#include \"Calculator.h\"\n",
    "#include <iostream>\n",
    "\n",
    "int main() {\n",
    "\n",
    "    Calculator calculator{1, 2};\n",
    "    std::cout << \"Sum: \" << calculator.add() << std::endl;\n",
    "\n",
    "    return 0;\n",
    "}\n",
    "```"
   ]
  },
  {
   "cell_type": "markdown",
   "metadata": {},
   "source": [
    "The ```tests/src/CalculatorTest.cpp```:\n",
    "\n",
    "```c++\n",
    "#include \"Calculator.h\"\n",
    "#include <gtest/gtest.h>\n",
    "\n",
    "TEST(Calculator, Add) {\n",
    "\n",
    "    Calculator calculator{1, 2};\n",
    "    EXPECT_EQ(3, calculator.add());\n",
    "}\n",
    "```"
   ]
  },
  {
   "cell_type": "markdown",
   "metadata": {},
   "source": [
    "The task is to edit the ```CMakeLists.txt``` and ```tests/CMakeLists.txt```.\n",
    "\n",
    "Compilation should produce three files:\n",
    "\n",
    "1. ```libcalculator.a``` - static library containing the calculator class\n",
    "2. ```runner``` - command line application\n",
    "3. ```tests``` - test project\n",
    "\n",
    "Some hints:\n",
    "\n",
    "1. Use CMake targets! (```target_include_directories```, ```target_link_libraries``` etc.)\n",
    "2. Use ```add_subdirectory``` to add nested ```tests/CMakeLists.txt```\n",
    "3. Use Google Test library only in ```tests/CMakeLists.txt```"
   ]
  },
  {
   "cell_type": "code",
   "execution_count": 1,
   "metadata": {},
   "outputs": [
    {
     "name": "stdout",
     "output_type": "stream",
     "text": [
      "OpenJDK 64-Bit Server VM warning: Option UseConcMarkSweepGC was deprecated in version 9.0 and will likely be removed in a future release.\n",
      "2020-11-03 16:16:21,337 [  30360]   WARN - pl.local.NativeFileWatcherImpl - Watcher terminated with exit code 3 \n",
      "2020-11-03 16:16:21,466 [  30489]   WARN - pl.local.NativeFileWatcherImpl - Watcher terminated with exit code 3 \n",
      "2020-11-03 16:16:21,676 [  30699]   WARN - pl.local.NativeFileWatcherImpl - Watcher terminated with exit code 3 \n",
      "2020-11-03 16:16:21,866 [  30889]   WARN - pl.local.NativeFileWatcherImpl - Watcher terminated with exit code 3 \n",
      "2020-11-03 16:16:22,013 [  31036]   WARN - pl.local.NativeFileWatcherImpl - Watcher terminated with exit code 3 \n",
      "2020-11-03 16:16:22,140 [  31163]   WARN - pl.local.NativeFileWatcherImpl - Watcher terminated with exit code 3 \n",
      "2020-11-03 16:16:22,250 [  31273]   WARN - pl.local.NativeFileWatcherImpl - Watcher terminated with exit code 3 \n",
      "2020-11-03 16:16:22,369 [  31392]   WARN - pl.local.NativeFileWatcherImpl - Watcher terminated with exit code 3 \n",
      "2020-11-03 16:16:22,490 [  31513]   WARN - pl.local.NativeFileWatcherImpl - Watcher terminated with exit code 3 \n",
      "2020-11-03 16:16:22,611 [  31634]   WARN - pl.local.NativeFileWatcherImpl - Watcher terminated with exit code 3 \n",
      "2020-11-03 16:16:22,612 [  31635]   WARN - api.vfs.impl.local.FileWatcher - File watcher failed to start \n",
      "2020-11-03 16:16:33,330 [  42353]   WARN - ernallyAddedFilesProcessorImpl - Cannot find project config directory for non-default and non-directory based project project \n",
      "2020-11-03 16:16:38,603 [  47626]   WARN - ernallyAddedFilesProcessorImpl - Cannot find project config directory for non-default and non-directory based project project \n",
      "2020-11-03 16:16:44,452 [  53475]   WARN - ernallyAddedFilesProcessorImpl - Cannot find project config directory for non-default and non-directory based project project \n",
      "2020-11-03 16:18:39,505 [ 168528]   WARN - cution.filters.CompositeFilter - CidrPathConsoleFilter.applyFilter() took 5631 ms on '''make: *** [Makefile:144: tests] Error 2\n",
      "''' \n"
     ]
    }
   ],
   "source": [
    "! clion project"
   ]
  },
  {
   "cell_type": "code",
   "execution_count": null,
   "metadata": {},
   "outputs": [],
   "source": []
  }
 ],
 "metadata": {
  "kernelspec": {
   "display_name": "Python 3",
   "language": "python",
   "name": "python3"
  },
  "language_info": {
   "codemirror_mode": {
    "name": "ipython",
    "version": 3
   },
   "file_extension": ".py",
   "mimetype": "text/x-python",
   "name": "python",
   "nbconvert_exporter": "python",
   "pygments_lexer": "ipython3",
   "version": "3.8.3"
  }
 },
 "nbformat": 4,
 "nbformat_minor": 4
}
