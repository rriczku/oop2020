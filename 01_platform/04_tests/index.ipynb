{
 "cells": [
  {
   "cell_type": "markdown",
   "metadata": {},
   "source": [
    "# OOP 2020"
   ]
  },
  {
   "cell_type": "markdown",
   "metadata": {},
   "source": [
    "## 1. Platform"
   ]
  },
  {
   "cell_type": "markdown",
   "metadata": {},
   "source": [
    "### 1.4. Tests"
   ]
  },
  {
   "cell_type": "markdown",
   "metadata": {},
   "source": [
    "In this exercise, the [Goole Test](https://github.com/google/googletest/blob/release-1.10.0/googletest/docs/primer.md) project will be downloaded, compiled and used to create unit tests."
   ]
  },
  {
   "cell_type": "markdown",
   "metadata": {},
   "source": [
    "#### Cloning the Google Test project"
   ]
  },
  {
   "cell_type": "markdown",
   "metadata": {},
   "source": [
    "First, remove the ```googletest``` directory if present:"
   ]
  },
  {
   "cell_type": "code",
   "execution_count": 1,
   "metadata": {},
   "outputs": [],
   "source": [
    "! rm -rf googletest"
   ]
  },
  {
   "cell_type": "markdown",
   "metadata": {},
   "source": [
    "Clone the [google/googletest](https://github.com/google/googletest) repository tag [release-1.10.0](https://github.com/google/googletest/tree/release-1.10.0): "
   ]
  },
  {
   "cell_type": "code",
   "execution_count": 2,
   "metadata": {},
   "outputs": [
    {
     "name": "stdout",
     "output_type": "stream",
     "text": [
      "Cloning into 'googletest'...\n",
      "remote: Enumerating objects: 288, done.\u001b[K\n",
      "remote: Counting objects: 100% (288/288), done.\u001b[K\n",
      "remote: Compressing objects: 100% (272/272), done.\u001b[K\n",
      "remote: Total 288 (delta 87), reused 40 (delta 11), pack-reused 0\u001b[K\n",
      "Receiving objects: 100% (288/288), 987.43 KiB | 2.30 MiB/s, done.\n",
      "Resolving deltas: 100% (87/87), done.\n",
      "Note: switching to '703bd9caab50b139428cea1aaff9974ebee5742e'.\n",
      "\n",
      "You are in 'detached HEAD' state. You can look around, make experimental\n",
      "changes and commit them, and you can discard any commits you make in this\n",
      "state without impacting any branches by switching back to a branch.\n",
      "\n",
      "If you want to create a new branch to retain commits you create, you may\n",
      "do so (now or later) by using -c with the switch command. Example:\n",
      "\n",
      "  git switch -c <new-branch-name>\n",
      "\n",
      "Or undo this operation with:\n",
      "\n",
      "  git switch -\n",
      "\n",
      "Turn off this advice by setting config variable advice.detachedHead to false\n",
      "\n"
     ]
    }
   ],
   "source": [
    "! git clone --depth=1 --branch=release-1.10.0 https://github.com/google/googletest.git"
   ]
  },
  {
   "cell_type": "markdown",
   "metadata": {},
   "source": [
    "Remove not needed GIT data:"
   ]
  },
  {
   "cell_type": "code",
   "execution_count": 3,
   "metadata": {},
   "outputs": [],
   "source": [
    "! rm -rf googletest/.git"
   ]
  },
  {
   "cell_type": "markdown",
   "metadata": {},
   "source": [
    "#### Compiling the Google Test project"
   ]
  },
  {
   "cell_type": "code",
   "execution_count": 4,
   "metadata": {},
   "outputs": [
    {
     "name": "stdout",
     "output_type": "stream",
     "text": [
      "-- The C compiler identification is GNU 9.3.0\n",
      "-- The CXX compiler identification is GNU 9.3.0\n",
      "-- Check for working C compiler: /usr/bin/cc\n",
      "-- Check for working C compiler: /usr/bin/cc -- works\n",
      "-- Detecting C compiler ABI info\n",
      "-- Detecting C compiler ABI info - done\n",
      "-- Detecting C compile features\n",
      "-- Detecting C compile features - done\n",
      "-- Check for working CXX compiler: /usr/bin/c++\n",
      "-- Check for working CXX compiler: /usr/bin/c++ -- works\n",
      "-- Detecting CXX compiler ABI info\n",
      "-- Detecting CXX compiler ABI info - done\n",
      "-- Detecting CXX compile features\n",
      "-- Detecting CXX compile features - done\n",
      "-- Found PythonInterp: /home/student/.miniconda3/bin/python (found version \"3.8.3\") \n",
      "-- Looking for pthread.h\n",
      "-- Looking for pthread.h - found\n",
      "-- Performing Test CMAKE_HAVE_LIBC_PTHREAD\n",
      "-- Performing Test CMAKE_HAVE_LIBC_PTHREAD - Failed\n",
      "-- Looking for pthread_create in pthreads\n",
      "-- Looking for pthread_create in pthreads - not found\n",
      "-- Looking for pthread_create in pthread\n",
      "-- Looking for pthread_create in pthread - found\n",
      "-- Found Threads: TRUE  \n",
      "-- Configuring done\n",
      "-- Generating done\n",
      "-- Build files have been written to: /home/student/oop_2020_jakub_rychlicki/01_platform/04_tests/googletest/build\n",
      "\u001b[35m\u001b[1mScanning dependencies of target gtest\u001b[0m\n",
      "[ 12%] \u001b[32mBuilding CXX object googletest/CMakeFiles/gtest.dir/src/gtest-all.cc.o\u001b[0m\n",
      "[ 25%] \u001b[32m\u001b[1mLinking CXX static library ../lib/libgtest.a\u001b[0m\n",
      "[ 25%] Built target gtest\n",
      "\u001b[35m\u001b[1mScanning dependencies of target gtest_main\u001b[0m\n",
      "\u001b[35m\u001b[1mScanning dependencies of target gmock\u001b[0m\n",
      "[ 37%] \u001b[32mBuilding CXX object googlemock/CMakeFiles/gmock.dir/src/gmock-all.cc.o\u001b[0m\n",
      "[ 50%] \u001b[32mBuilding CXX object googletest/CMakeFiles/gtest_main.dir/src/gtest_main.cc.o\u001b[0m\n",
      "[ 62%] \u001b[32m\u001b[1mLinking CXX static library ../lib/libgtest_main.a\u001b[0m\n",
      "[ 62%] Built target gtest_main\n",
      "[ 75%] \u001b[32m\u001b[1mLinking CXX static library ../lib/libgmock.a\u001b[0m\n",
      "[ 75%] Built target gmock\n",
      "\u001b[35m\u001b[1mScanning dependencies of target gmock_main\u001b[0m\n",
      "[ 87%] \u001b[32mBuilding CXX object googlemock/CMakeFiles/gmock_main.dir/src/gmock_main.cc.o\u001b[0m\n",
      "[100%] \u001b[32m\u001b[1mLinking CXX static library ../lib/libgmock_main.a\u001b[0m\n",
      "[100%] Built target gmock_main\n"
     ]
    }
   ],
   "source": [
    "! cd googletest && mkdir build && cd build && cmake ../ && make -j4"
   ]
  },
  {
   "cell_type": "markdown",
   "metadata": {},
   "source": [
    "In the later parts of the exercasie you will have to use the compiled ```libgtest.a``` and ```libgtest_main.a``` libraries:"
   ]
  },
  {
   "cell_type": "code",
   "execution_count": 5,
   "metadata": {},
   "outputs": [
    {
     "name": "stdout",
     "output_type": "stream",
     "text": [
      "googletest/build/lib/libgtest.a\r\n",
      "googletest/build/lib/libgtest_main.a\r\n"
     ]
    }
   ],
   "source": [
    "! find googletest/build -name lib*gtest*.a"
   ]
  },
  {
   "cell_type": "markdown",
   "metadata": {},
   "source": [
    "And the ```gtest/gtest.h``` header file:"
   ]
  },
  {
   "cell_type": "code",
   "execution_count": 6,
   "metadata": {},
   "outputs": [
    {
     "name": "stdout",
     "output_type": "stream",
     "text": [
      "googletest/googletest/include/gtest/gtest.h\r\n"
     ]
    }
   ],
   "source": [
    "! find googletest -name gtest.h | grep -v internal"
   ]
  },
  {
   "cell_type": "markdown",
   "metadata": {},
   "source": [
    "#### Compiling simple test"
   ]
  },
  {
   "cell_type": "markdown",
   "metadata": {},
   "source": [
    "First, add ```main.cpp``` file to the project. The file should contain following code:\n",
    "\n",
    "```c++\n",
    "#include <gtest/gtest.h>\n",
    "\n",
    "class Calculator {\n",
    "public:\n",
    "\n",
    "    Calculator(int a, int b) : a(a), b(b) {}\n",
    "\n",
    "    int add() const {\n",
    "        return a + b;\n",
    "    }\n",
    "\n",
    "private:\n",
    "    int a;\n",
    "    int b;\n",
    "};\n",
    "\n",
    "TEST(Calculator, Add) {\n",
    "\n",
    "    Calculator calculator{1, 2};\n",
    "    EXPECT_EQ(3, calculator.add());\n",
    "}\n",
    "```\n",
    "\n",
    "The task is to compile and run the code by modifying only the ```CMakeLists.txt``` file."
   ]
  },
  {
   "cell_type": "code",
   "execution_count": 1,
   "metadata": {},
   "outputs": [
    {
     "name": "stdout",
     "output_type": "stream",
     "text": [
      "OpenJDK 64-Bit Server VM warning: Option UseConcMarkSweepGC was deprecated in version 9.0 and will likely be removed in a future release.\n",
      "2020-11-03 12:49:21,177 [  41242]   WARN - pl.local.NativeFileWatcherImpl - Watcher terminated with exit code 3 \n",
      "2020-11-03 12:49:21,380 [  41445]   WARN - pl.local.NativeFileWatcherImpl - Watcher terminated with exit code 3 \n",
      "2020-11-03 12:49:21,513 [  41578]   WARN - pl.local.NativeFileWatcherImpl - Watcher terminated with exit code 3 \n",
      "2020-11-03 12:49:21,664 [  41729]   WARN - pl.local.NativeFileWatcherImpl - Watcher terminated with exit code 3 \n",
      "2020-11-03 12:49:21,813 [  41878]   WARN - pl.local.NativeFileWatcherImpl - Watcher terminated with exit code 3 \n",
      "2020-11-03 12:49:21,967 [  42032]   WARN - pl.local.NativeFileWatcherImpl - Watcher terminated with exit code 3 \n",
      "2020-11-03 12:49:22,095 [  42160]   WARN - pl.local.NativeFileWatcherImpl - Watcher terminated with exit code 3 \n",
      "2020-11-03 12:49:22,270 [  42335]   WARN - pl.local.NativeFileWatcherImpl - Watcher terminated with exit code 3 \n",
      "2020-11-03 12:49:22,442 [  42507]   WARN - pl.local.NativeFileWatcherImpl - Watcher terminated with exit code 3 \n",
      "2020-11-03 12:49:22,587 [  42652]   WARN - pl.local.NativeFileWatcherImpl - Watcher terminated with exit code 3 \n",
      "2020-11-03 12:49:22,598 [  42663]   WARN - api.vfs.impl.local.FileWatcher - File watcher failed to start \n",
      "2020-11-03 12:49:40,646 [  60711]   WARN - arketplace.MarketplaceRequests - Can not get compatible updates from Marketplace:connect timed out \n",
      "2020-11-03 12:49:42,374 [  62439]   WARN - arketplace.MarketplaceRequests - Can not get compatible updates from Marketplace:connect timed out \n",
      "2020-11-03 12:49:47,004 [  67069]   WARN - .diagnostic.PerformanceWatcher - UI was frozen for 5499ms, details saved to /home/student/.cache/JetBrains/CLion2020.2/log/threadDumps-freeze-20201103-124946-CL-202.7319.72-ComparableObjectCheck.equals-5sec \n",
      "2020-11-03 12:54:58,835 [ 378900]   WARN - ystem.impl.ActionPopupMenuImpl - 4905ms to fill popup menu ProjectViewPopup \n",
      "2020-11-03 12:54:59,004 [ 379069]   WARN - .diagnostic.PerformanceWatcher - UI was frozen for 5083ms, details saved to /home/student/.cache/JetBrains/CLion2020.2/log/threadDumps-freeze-20201103-125458-CL-202.7319.72-SwingUtilities.appContextGet-5sec \n",
      "Unable to find full path for \"/home/student/oop_2020_jakub_rychlicki/01_platform/04_tests/project/cmake-build-debug/liblibcalculator.a.a\"\n",
      "2020-11-03 13:45:45,035 [3425100]   WARN - .configurations.PtyCommandLine - Couldn't run process with PTY \n",
      "java.io.IOException: Exec_tty error:Unknown reason\n",
      "\tat com.pty4j.unix.UnixPtyProcess.execInPty(UnixPtyProcess.java:272)\n",
      "\tat com.pty4j.unix.UnixPtyProcess.<init>(UnixPtyProcess.java:86)\n",
      "\tat com.pty4j.PtyProcessBuilder.start(PtyProcessBuilder.java:111)\n",
      "\tat com.intellij.execution.configurations.PtyCommandLine.doStartProcessWithPty(PtyCommandLine.java:238)\n",
      "\tat com.intellij.execution.configurations.PtyCommandLine.startProcessWithPty(PtyCommandLine.java:196)\n",
      "\tat com.intellij.execution.configurations.PtyCommandLine.startProcess(PtyCommandLine.java:139)\n",
      "\tat com.intellij.execution.configurations.GeneralCommandLine.createProcess(GeneralCommandLine.java:422)\n",
      "\tat com.intellij.execution.process.OSProcessHandler.startProcess(OSProcessHandler.java:99)\n",
      "\tat com.intellij.execution.process.OSProcessHandler.<init>(OSProcessHandler.java:47)\n",
      "\tat com.intellij.execution.process.KillableProcessHandler.<init>(KillableProcessHandler.java:37)\n",
      "\tat com.intellij.execution.process.ColoredProcessHandler.<init>(ColoredProcessHandler.java:24)\n",
      "\tat com.jetbrains.cidr.system.LocalHost$MyColoredProcessHandler.<init>(LocalHost.java:60)\n",
      "\tat com.jetbrains.cidr.system.LocalHost.createProcess(LocalHost.java:51)\n",
      "\tat com.jetbrains.cidr.system.HostMachine.createProcess(HostMachine.java:31)\n",
      "\tat com.jetbrains.cidr.cpp.execution.CLionLauncher.createProcessHandler(CLionLauncher.kt:112)\n",
      "\tat com.jetbrains.cidr.cpp.execution.CLionLauncher.createProcess(CLionLauncher.kt:67)\n",
      "\tat com.jetbrains.cidr.execution.CidrLauncher.startProcess(CidrLauncher.java:22)\n",
      "\tat com.jetbrains.cidr.execution.CidrCommandLineState.startProcess(CidrCommandLineState.java:35)\n",
      "\tat com.intellij.execution.configurations.CommandLineState.execute(CommandLineState.java:61)\n",
      "\tat com.jetbrains.cidr.execution.CidrCommandLineState.execute(CidrCommandLineState.java:41)\n",
      "\tat com.intellij.execution.runners.DefaultProgramRunnerKt.executeState(DefaultProgramRunner.kt:32)\n",
      "\tat com.jetbrains.cidr.execution.CidrRunner.doExecute(CidrRunner.java:40)\n",
      "\tat com.jetbrains.cidr.cpp.execution.CLionRunner.doExecute(CLionRunner.kt:33)\n",
      "\tat com.jetbrains.cidr.execution.CidrRunner.a(CidrRunner.java:34)\n",
      "\tat com.intellij.execution.ExecutionManager$startRunProfile$1.invoke(ExecutionManager.kt:64)\n",
      "\tat com.intellij.execution.ExecutionManager$startRunProfile$1.invoke(ExecutionManager.kt:19)\n",
      "\tat com.intellij.execution.impl.ExecutionManagerImpl$startRunProfile$1.invoke(ExecutionManagerImpl.kt:147)\n",
      "\tat com.intellij.execution.impl.ExecutionManagerImpl$startRunProfile$1.invoke(ExecutionManagerImpl.kt:60)\n",
      "\tat com.intellij.execution.impl.ExecutionManagerImpl$doStartRunProfile$startRunnable$1.run(ExecutionManagerImpl.kt:208)\n",
      "\tat com.intellij.openapi.application.TransactionGuardImpl$2.run(TransactionGuardImpl.java:201)\n",
      "\tat com.intellij.openapi.application.impl.ApplicationImpl.runIntendedWriteActionOnCurrentThread(ApplicationImpl.java:802)\n",
      "\tat com.intellij.openapi.application.impl.ApplicationImpl.lambda$invokeLater$4(ApplicationImpl.java:322)\n",
      "\tat com.intellij.openapi.application.impl.FlushQueue.doRun(FlushQueue.java:84)\n",
      "\tat com.intellij.openapi.application.impl.FlushQueue.runNextEvent(FlushQueue.java:132)\n",
      "\tat com.intellij.openapi.application.impl.FlushQueue.flushNow(FlushQueue.java:47)\n",
      "\tat com.intellij.openapi.application.impl.FlushQueue$FlushNow.run(FlushQueue.java:188)\n",
      "\tat java.desktop/java.awt.event.InvocationEvent.dispatch(InvocationEvent.java:313)\n",
      "\tat java.desktop/java.awt.EventQueue.dispatchEventImpl(EventQueue.java:776)\n",
      "\tat java.desktop/java.awt.EventQueue$4.run(EventQueue.java:727)\n",
      "\tat java.desktop/java.awt.EventQueue$4.run(EventQueue.java:721)\n",
      "\tat java.base/java.security.AccessController.doPrivileged(Native Method)\n",
      "\tat java.base/java.security.ProtectionDomain$JavaSecurityAccessImpl.doIntersectionPrivilege(ProtectionDomain.java:85)\n",
      "\tat java.desktop/java.awt.EventQueue.dispatchEvent(EventQueue.java:746)\n",
      "\tat com.intellij.ide.IdeEventQueue.defaultDispatchEvent(IdeEventQueue.java:971)\n",
      "\tat com.intellij.ide.IdeEventQueue._dispatchEvent(IdeEventQueue.java:841)\n",
      "\tat com.intellij.ide.IdeEventQueue.lambda$dispatchEvent$8(IdeEventQueue.java:452)\n",
      "\tat com.intellij.openapi.progress.impl.CoreProgressManager.computePrioritized(CoreProgressManager.java:744)\n",
      "\tat com.intellij.ide.IdeEventQueue.lambda$dispatchEvent$9(IdeEventQueue.java:451)\n",
      "\tat com.intellij.openapi.application.impl.ApplicationImpl.runIntendedWriteActionOnCurrentThread(ApplicationImpl.java:802)\n",
      "\tat com.intellij.ide.IdeEventQueue.dispatchEvent(IdeEventQueue.java:499)\n",
      "\tat java.desktop/java.awt.EventDispatchThread.pumpOneEventForFilters(EventDispatchThread.java:203)\n",
      "\tat java.desktop/java.awt.EventDispatchThread.pumpEventsForFilter(EventDispatchThread.java:124)\n",
      "\tat java.desktop/java.awt.EventDispatchThread.pumpEventsForHierarchy(EventDispatchThread.java:113)\n",
      "\tat java.desktop/java.awt.EventDispatchThread.pumpEvents(EventDispatchThread.java:109)\n",
      "\tat java.desktop/java.awt.EventDispatchThread.pumpEvents(EventDispatchThread.java:101)\n",
      "\tat java.desktop/java.awt.EventDispatchThread.run(EventDispatchThread.java:90)\n",
      "Unable to find full path for \"/home/student/oop_2020_jakub_rychlicki/01_platform/04_tests/project/cmake-build-debug/liblibcalculator.a.a\"\n",
      "2020-11-03 13:47:23,890 [3523955]   WARN - .configurations.PtyCommandLine - Couldn't run process with PTY \n",
      "java.io.IOException: Exec_tty error:Unknown reason\n",
      "\tat com.pty4j.unix.UnixPtyProcess.execInPty(UnixPtyProcess.java:272)\n",
      "\tat com.pty4j.unix.UnixPtyProcess.<init>(UnixPtyProcess.java:86)\n",
      "\tat com.pty4j.PtyProcessBuilder.start(PtyProcessBuilder.java:111)\n",
      "\tat com.intellij.execution.configurations.PtyCommandLine.doStartProcessWithPty(PtyCommandLine.java:238)\n",
      "\tat com.intellij.execution.configurations.PtyCommandLine.startProcessWithPty(PtyCommandLine.java:196)\n",
      "\tat com.intellij.execution.configurations.PtyCommandLine.startProcess(PtyCommandLine.java:139)\n",
      "\tat com.intellij.execution.configurations.GeneralCommandLine.createProcess(GeneralCommandLine.java:422)\n",
      "\tat com.intellij.execution.process.OSProcessHandler.startProcess(OSProcessHandler.java:99)\n",
      "\tat com.intellij.execution.process.OSProcessHandler.<init>(OSProcessHandler.java:47)\n",
      "\tat com.intellij.execution.process.KillableProcessHandler.<init>(KillableProcessHandler.java:37)\n",
      "\tat com.intellij.execution.process.ColoredProcessHandler.<init>(ColoredProcessHandler.java:24)\n",
      "\tat com.jetbrains.cidr.system.LocalHost$MyColoredProcessHandler.<init>(LocalHost.java:60)\n",
      "\tat com.jetbrains.cidr.system.LocalHost.createProcess(LocalHost.java:51)\n",
      "\tat com.jetbrains.cidr.system.HostMachine.createProcess(HostMachine.java:31)\n",
      "\tat com.jetbrains.cidr.cpp.execution.CLionLauncher.createProcessHandler(CLionLauncher.kt:112)\n",
      "\tat com.jetbrains.cidr.cpp.execution.CLionLauncher.createProcess(CLionLauncher.kt:67)\n",
      "\tat com.jetbrains.cidr.execution.CidrLauncher.startProcess(CidrLauncher.java:22)\n",
      "\tat com.jetbrains.cidr.execution.CidrCommandLineState.startProcess(CidrCommandLineState.java:35)\n",
      "\tat com.intellij.execution.configurations.CommandLineState.execute(CommandLineState.java:61)\n",
      "\tat com.jetbrains.cidr.execution.CidrCommandLineState.execute(CidrCommandLineState.java:41)\n",
      "\tat com.intellij.execution.runners.DefaultProgramRunnerKt.executeState(DefaultProgramRunner.kt:32)\n",
      "\tat com.jetbrains.cidr.execution.CidrRunner.doExecute(CidrRunner.java:40)\n",
      "\tat com.jetbrains.cidr.cpp.execution.CLionRunner.doExecute(CLionRunner.kt:33)\n",
      "\tat com.jetbrains.cidr.execution.CidrRunner.a(CidrRunner.java:34)\n",
      "\tat com.intellij.execution.ExecutionManager$startRunProfile$1.invoke(ExecutionManager.kt:64)\n",
      "\tat com.intellij.execution.ExecutionManager$startRunProfile$1.invoke(ExecutionManager.kt:19)\n",
      "\tat com.intellij.execution.impl.ExecutionManagerImpl$startRunProfile$1.invoke(ExecutionManagerImpl.kt:147)\n",
      "\tat com.intellij.execution.impl.ExecutionManagerImpl$startRunProfile$1.invoke(ExecutionManagerImpl.kt:60)\n",
      "\tat com.intellij.execution.impl.ExecutionManagerImpl$doStartRunProfile$startRunnable$1.run(ExecutionManagerImpl.kt:208)\n",
      "\tat com.intellij.openapi.application.TransactionGuardImpl$2.run(TransactionGuardImpl.java:201)\n",
      "\tat com.intellij.openapi.application.impl.ApplicationImpl.runIntendedWriteActionOnCurrentThread(ApplicationImpl.java:802)\n",
      "\tat com.intellij.openapi.application.impl.ApplicationImpl.lambda$invokeLater$4(ApplicationImpl.java:322)\n",
      "\tat com.intellij.openapi.application.impl.FlushQueue.doRun(FlushQueue.java:84)\n",
      "\tat com.intellij.openapi.application.impl.FlushQueue.runNextEvent(FlushQueue.java:132)\n",
      "\tat com.intellij.openapi.application.impl.FlushQueue.flushNow(FlushQueue.java:47)\n",
      "\tat com.intellij.openapi.application.impl.FlushQueue$FlushNow.run(FlushQueue.java:188)\n",
      "\tat java.desktop/java.awt.event.InvocationEvent.dispatch(InvocationEvent.java:313)\n",
      "\tat java.desktop/java.awt.EventQueue.dispatchEventImpl(EventQueue.java:776)\n",
      "\tat java.desktop/java.awt.EventQueue$4.run(EventQueue.java:727)\n",
      "\tat java.desktop/java.awt.EventQueue$4.run(EventQueue.java:721)\n",
      "\tat java.base/java.security.AccessController.doPrivileged(Native Method)\n",
      "\tat java.base/java.security.ProtectionDomain$JavaSecurityAccessImpl.doIntersectionPrivilege(ProtectionDomain.java:85)\n",
      "\tat java.desktop/java.awt.EventQueue.dispatchEvent(EventQueue.java:746)\n",
      "\tat com.intellij.ide.IdeEventQueue.defaultDispatchEvent(IdeEventQueue.java:971)\n",
      "\tat com.intellij.ide.IdeEventQueue._dispatchEvent(IdeEventQueue.java:841)\n",
      "\tat com.intellij.ide.IdeEventQueue.lambda$dispatchEvent$8(IdeEventQueue.java:452)\n",
      "\tat com.intellij.openapi.progress.impl.CoreProgressManager.computePrioritized(CoreProgressManager.java:744)\n",
      "\tat com.intellij.ide.IdeEventQueue.lambda$dispatchEvent$9(IdeEventQueue.java:451)\n",
      "\tat com.intellij.openapi.application.impl.ApplicationImpl.runIntendedWriteActionOnCurrentThread(ApplicationImpl.java:802)\n",
      "\tat com.intellij.ide.IdeEventQueue.dispatchEvent(IdeEventQueue.java:499)\n",
      "\tat java.desktop/java.awt.EventDispatchThread.pumpOneEventForFilters(EventDispatchThread.java:203)\n",
      "\tat java.desktop/java.awt.EventDispatchThread.pumpEventsForFilter(EventDispatchThread.java:124)\n",
      "\tat java.desktop/java.awt.EventDispatchThread.pumpEventsForHierarchy(EventDispatchThread.java:113)\n",
      "\tat java.desktop/java.awt.EventDispatchThread.pumpEvents(EventDispatchThread.java:109)\n",
      "\tat java.desktop/java.awt.EventDispatchThread.pumpEvents(EventDispatchThread.java:101)\n",
      "\tat java.desktop/java.awt.EventDispatchThread.run(EventDispatchThread.java:90)\n"
     ]
    }
   ],
   "source": [
    "! clion project"
   ]
  },
  {
   "cell_type": "markdown",
   "metadata": {},
   "source": [
    "#### Project structure"
   ]
  },
  {
   "cell_type": "markdown",
   "metadata": {},
   "source": [
    "The structure of the project should be changed into:\n",
    "\n",
    "```\n",
    "project/\n",
    "├── CMakeLists.txt\n",
    "├── include\n",
    "│   └── Calculator.h\n",
    "├── src\n",
    "│   ├── Calculator.cpp\n",
    "│   └── main.cpp\n",
    "└── tests\n",
    "    ├── CMakeLists.txt\n",
    "    └── src\n",
    "        └── CalculatorTest.cpp\n",
    "\n",
    "4 directories, 6 files\n",
    "```"
   ]
  },
  {
   "cell_type": "markdown",
   "metadata": {},
   "source": [
    "The ```include/Calculator.h``` should contain:\n",
    "\n",
    "```c++\n",
    "#pragma once\n",
    "\n",
    "class Calculator {\n",
    "public:\n",
    "\n",
    "    Calculator(int a, int b);\n",
    "\n",
    "    int add() const;\n",
    "\n",
    "private:\n",
    "    int a;\n",
    "    int b;\n",
    "};\n",
    "```"
   ]
  },
  {
   "cell_type": "markdown",
   "metadata": {},
   "source": [
    "The ```src/Calculator.cpp```:\n",
    "\n",
    "```c++\n",
    "#include \"Calculator.h\"\n",
    "\n",
    "Calculator::Calculator(int a, int b) : a(a), b(b) {}\n",
    "\n",
    "int Calculator::add() const {\n",
    "    return a + b;\n",
    "}\n",
    "```"
   ]
  },
  {
   "cell_type": "markdown",
   "metadata": {},
   "source": [
    "The ```src/main.cpp```:\n",
    "\n",
    "```c++\n",
    "#include \"Calculator.h\"\n",
    "#include <iostream>\n",
    "\n",
    "int main() {\n",
    "\n",
    "    Calculator calculator{1, 2};\n",
    "    std::cout << \"Sum: \" << calculator.add() << std::endl;\n",
    "\n",
    "    return 0;\n",
    "}\n",
    "```"
   ]
  },
  {
   "cell_type": "markdown",
   "metadata": {},
   "source": [
    "The ```tests/src/CalculatorTest.cpp```:\n",
    "\n",
    "```c++\n",
    "#include \"Calculator.h\"\n",
    "#include <gtest/gtest.h>\n",
    "\n",
    "TEST(Calculator, Add) {\n",
    "\n",
    "    Calculator calculator{1, 2};\n",
    "    EXPECT_EQ(3, calculator.add());\n",
    "}\n",
    "```"
   ]
  },
  {
   "cell_type": "markdown",
   "metadata": {},
   "source": [
    "The task is to edit the ```CMakeLists.txt``` and ```tests/CMakeLists.txt```.\n",
    "\n",
    "Compilation should produce three files:\n",
    "\n",
    "1. ```libcalculator.a``` - static library containing the calculator class\n",
    "2. ```runner``` - command line application\n",
    "3. ```tests``` - test project\n",
    "\n",
    "Some hints:\n",
    "\n",
    "1. Use CMake targets! (```target_include_directories```, ```target_link_libraries``` etc.)\n",
    "2. Use ```add_subdirectory``` to add nested ```tests/CMakeLists.txt```\n",
    "3. Use Google Test library only in ```tests/CMakeLists.txt```"
   ]
  },
  {
   "cell_type": "code",
   "execution_count": null,
   "metadata": {},
   "outputs": [
    {
     "name": "stdout",
     "output_type": "stream",
     "text": [
      "OpenJDK 64-Bit Server VM warning: Option UseConcMarkSweepGC was deprecated in version 9.0 and will likely be removed in a future release.\r\n"
     ]
    }
   ],
   "source": [
    "! clion project"
   ]
  },
  {
   "cell_type": "code",
   "execution_count": null,
   "metadata": {},
   "outputs": [],
   "source": []
  }
 ],
 "metadata": {
  "kernelspec": {
   "display_name": "Python 3",
   "language": "python",
   "name": "python3"
  },
  "language_info": {
   "codemirror_mode": {
    "name": "ipython",
    "version": 3
   },
   "file_extension": ".py",
   "mimetype": "text/x-python",
   "name": "python",
   "nbconvert_exporter": "python",
   "pygments_lexer": "ipython3",
   "version": "3.8.3"
  }
 },
 "nbformat": 4,
 "nbformat_minor": 4
}
