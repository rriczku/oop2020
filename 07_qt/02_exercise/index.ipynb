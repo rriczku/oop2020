{
 "cells": [
  {
   "cell_type": "markdown",
   "metadata": {},
   "source": [
    "# OOP 2020"
   ]
  },
  {
   "cell_type": "markdown",
   "metadata": {},
   "source": [
    "## 7. QT"
   ]
  },
  {
   "cell_type": "markdown",
   "metadata": {},
   "source": [
    "### 7.2. Exercise"
   ]
  },
  {
   "cell_type": "markdown",
   "metadata": {},
   "source": [
    "Tasks:\n",
    "\n",
    "1. Create subdirs project named ```project```.\n",
    "2. Inside of the project add shared library named ```utils``` which will contain the observer pattern classes: ```Displacement```, ```Speed``` and ```Acceleration```.\n",
    "3. Next, add console application named ```cli``` that shows an example of observer pattern usage.\n",
    "4. Add GUI application named ```gui``` that shows an example of how the pattern can be used with widgets\n",
    "5. Finally, add ```tests``` subdirs project and projects that use ```QtTest``` to test the observer pattern classes. There should be three subprojects: ```tests/speed```, ```tests/accelaration``` and ```tests/displacement```."
   ]
  },
  {
   "cell_type": "markdown",
   "metadata": {},
   "source": [
    "#### Edit the code"
   ]
  },
  {
   "cell_type": "code",
   "execution_count": null,
   "metadata": {},
   "outputs": [
    {
     "name": "stdout",
     "output_type": "stream",
     "text": [
      "QStandardPaths: XDG_RUNTIME_DIR not set, defaulting to '/tmp/runtime-student'\n",
      "Info: creating stash file /home/student/oop_2020_jakub_rychlicki/07_qt/02_exercise/build-project-Desktop-Release/.qmake.stash\n",
      "Info: creating stash file /home/student/oop_2020_jakub_rychlicki/07_qt/02_exercise/build-project-Desktop-Release/cli/.qmake.stash\n",
      "Info: creating stash file /home/student/oop_2020_jakub_rychlicki/07_qt/02_exercise/build-project-Desktop-Release/gui/.qmake.stash\n",
      "Info: creating stash file /home/student/oop_2020_jakub_rychlicki/07_qt/02_exercise/build-project-Desktop-Release/tests/.qmake.stash\n",
      "Info: creating stash file /home/student/oop_2020_jakub_rychlicki/07_qt/02_exercise/build-project-Desktop-Release/utils/.qmake.stash\n",
      "Info: creating stash file /home/student/oop_2020_jakub_rychlicki/07_qt/02_exercise/build-project-Desktop-Release/tests/acceleration/.qmake.stash\n",
      "Info: creating stash file /home/student/oop_2020_jakub_rychlicki/07_qt/02_exercise/build-project-Desktop-Release/tests/displacement/.qmake.stash\n",
      "Info: creating stash file /home/student/oop_2020_jakub_rychlicki/07_qt/02_exercise/build-project-Desktop-Release/tests/speed/.qmake.stash\n",
      "Info: creating stash file /home/student/oop_2020_jakub_rychlicki/07_qt/02_exercise/build-project-Desktop-Debug/.qmake.stash\n",
      "Info: creating stash file /home/student/oop_2020_jakub_rychlicki/07_qt/02_exercise/build-project-Desktop-Debug/gui/.qmake.stash\n",
      "Info: creating stash file /home/student/oop_2020_jakub_rychlicki/07_qt/02_exercise/build-project-Desktop-Debug/cli/.qmake.stash\n",
      "Info: creating stash file /home/student/oop_2020_jakub_rychlicki/07_qt/02_exercise/build-project-Desktop-Debug/tests/.qmake.stash\n",
      "Info: creating stash file /home/student/oop_2020_jakub_rychlicki/07_qt/02_exercise/build-project-Desktop-Debug/utils/.qmake.stash\n",
      "Info: creating stash file /home/student/oop_2020_jakub_rychlicki/07_qt/02_exercise/build-project-Desktop-Debug/tests/acceleration/.qmake.stash\n",
      "Info: creating stash file /home/student/oop_2020_jakub_rychlicki/07_qt/02_exercise/build-project-Desktop-Debug/tests/displacement/.qmake.stash\n",
      "Info: creating stash file /home/student/oop_2020_jakub_rychlicki/07_qt/02_exercise/build-project-Desktop-Debug/tests/speed/.qmake.stash\n"
     ]
    }
   ],
   "source": [
    "! qtcreator"
   ]
  },
  {
   "cell_type": "markdown",
   "metadata": {},
   "source": [
    "#### Build the code"
   ]
  },
  {
   "cell_type": "code",
   "execution_count": 1,
   "metadata": {},
   "outputs": [],
   "source": [
    "! rm -rf build-project"
   ]
  },
  {
   "cell_type": "code",
   "execution_count": 2,
   "metadata": {},
   "outputs": [],
   "source": [
    "! mkdir build-project"
   ]
  },
  {
   "cell_type": "code",
   "execution_count": 3,
   "metadata": {},
   "outputs": [
    {
     "name": "stdout",
     "output_type": "stream",
     "text": [
      "Info: creating stash file /home/student/oop_2020_jakub_rychlicki/07_qt/02_exercise/build-project/.qmake.stash\r\n"
     ]
    }
   ],
   "source": [
    "! cd build-project && qmake ../project"
   ]
  },
  {
   "cell_type": "code",
   "execution_count": 4,
   "metadata": {},
   "outputs": [
    {
     "name": "stdout",
     "output_type": "stream",
     "text": [
      "cd utils/ && ( test -e Makefile || /home/student/.miniconda3/bin/qmake -o Makefile /home/student/oop_2020_jakub_rychlicki/07_qt/02_exercise/project/utils/utils.pro ) && make -f Makefile \n",
      "make[1]: Entering directory '/home/student/oop_2020_jakub_rychlicki/07_qt/02_exercise/build-project/utils'\n",
      "g++ -c -pipe -O2 -std=gnu++11 -Wall -W -D_REENTRANT -fPIC -DUTILS_LIBRARY -DQT_DEPRECATED_WARNINGS -DQT_NO_DEBUG -DQT_CORE_LIB -I../../project/utils -I. -I/home/student/.miniconda3/include/qt -I/home/student/.miniconda3/include/qt/QtCore -I. -I/home/student/.miniconda3/mkspecs/linux-g++ -o acceleration.o ../../project/utils/acceleration.cpp\n",
      "g++ -c -pipe -O2 -std=gnu++11 -Wall -W -D_REENTRANT -fPIC -DUTILS_LIBRARY -DQT_DEPRECATED_WARNINGS -DQT_NO_DEBUG -DQT_CORE_LIB -I../../project/utils -I. -I/home/student/.miniconda3/include/qt -I/home/student/.miniconda3/include/qt/QtCore -I. -I/home/student/.miniconda3/mkspecs/linux-g++ -o displacement.o ../../project/utils/displacement.cpp\n",
      "g++ -c -pipe -O2 -std=gnu++11 -Wall -W -D_REENTRANT -fPIC -DUTILS_LIBRARY -DQT_DEPRECATED_WARNINGS -DQT_NO_DEBUG -DQT_CORE_LIB -I../../project/utils -I. -I/home/student/.miniconda3/include/qt -I/home/student/.miniconda3/include/qt/QtCore -I. -I/home/student/.miniconda3/mkspecs/linux-g++ -o speed.o ../../project/utils/speed.cpp\n",
      "g++ -c -pipe -O2 -std=gnu++11 -Wall -W -D_REENTRANT -fPIC -DUTILS_LIBRARY -DQT_DEPRECATED_WARNINGS -DQT_NO_DEBUG -DQT_CORE_LIB -I../../project/utils -I. -I/home/student/.miniconda3/include/qt -I/home/student/.miniconda3/include/qt/QtCore -I. -I/home/student/.miniconda3/mkspecs/linux-g++ -o utils.o ../../project/utils/utils.cpp\n",
      "In file included from \u001b[01m\u001b[K/home/student/.miniconda3/include/qt/QtCore/qlocale.h:43\u001b[m\u001b[K,\n",
      "                 from \u001b[01m\u001b[K/home/student/.miniconda3/include/qt/QtCore/qtextstream.h:46\u001b[m\u001b[K,\n",
      "                 from \u001b[01m\u001b[K/home/student/.miniconda3/include/qt/QtCore/qdebug.h:49\u001b[m\u001b[K,\n",
      "                 from \u001b[01m\u001b[K/home/student/.miniconda3/include/qt/QtCore/QDebug:1\u001b[m\u001b[K,\n",
      "                 from \u001b[01m\u001b[K../../project/utils/acceleration.cpp:2\u001b[m\u001b[K:\n",
      "\u001b[01m\u001b[K/home/student/.miniconda3/include/qt/QtCore/qvariant.h:\u001b[m\u001b[K In constructor ‘\u001b[01m\u001b[KQVariant::QVariant(QVariant&&)\u001b[m\u001b[K’:\n",
      "\u001b[01m\u001b[K/home/student/.miniconda3/include/qt/QtCore/qvariant.h:265:25:\u001b[m\u001b[K \u001b[01;35m\u001b[Kwarning: \u001b[m\u001b[Kimplicitly-declared ‘\u001b[01m\u001b[KQVariant::Private& QVariant::Private::operator=(const QVariant::Private&)\u001b[m\u001b[K’ is deprecated [\u001b[01;35m\u001b[K-Wdeprecated-copy\u001b[m\u001b[K]\n",
      "  265 |     { other.d = Private(\u001b[01;35m\u001b[K)\u001b[m\u001b[K; }\n",
      "      |                         \u001b[01;35m\u001b[K^\u001b[m\u001b[K\n",
      "\u001b[01m\u001b[K/home/student/.miniconda3/include/qt/QtCore/qvariant.h:380:16:\u001b[m\u001b[K \u001b[01;36m\u001b[Knote: \u001b[m\u001b[Kbecause ‘\u001b[01m\u001b[KQVariant::Private\u001b[m\u001b[K’ has user-provided ‘\u001b[01m\u001b[KQVariant::Private::Private(const QVariant::Private&)\u001b[m\u001b[K’\n",
      "  380 |         inline \u001b[01;36m\u001b[KPrivate\u001b[m\u001b[K(const Private &other) Q_DECL_NOTHROW\n",
      "      |                \u001b[01;36m\u001b[K^~~~~~~\u001b[m\u001b[K\n",
      "In file included from \u001b[01m\u001b[K/home/student/.miniconda3/include/qt/QtCore/qlocale.h:43\u001b[m\u001b[K,\n",
      "                 from \u001b[01m\u001b[K/home/student/.miniconda3/include/qt/QtCore/qtextstream.h:46\u001b[m\u001b[K,\n",
      "                 from \u001b[01m\u001b[K/home/student/.miniconda3/include/qt/QtCore/qdebug.h:49\u001b[m\u001b[K,\n",
      "                 from \u001b[01m\u001b[K/home/student/.miniconda3/include/qt/QtCore/QDebug:1\u001b[m\u001b[K,\n",
      "                 from \u001b[01m\u001b[K../../project/utils/speed.cpp:2\u001b[m\u001b[K:\n",
      "\u001b[01m\u001b[K/home/student/.miniconda3/include/qt/QtCore/qvariant.h:\u001b[m\u001b[K In constructor ‘\u001b[01m\u001b[KQVariant::QVariant(QVariant&&)\u001b[m\u001b[K’:\n",
      "\u001b[01m\u001b[K/home/student/.miniconda3/include/qt/QtCore/qvariant.h:265:25:\u001b[m\u001b[K \u001b[01;35m\u001b[Kwarning: \u001b[m\u001b[Kimplicitly-declared ‘\u001b[01m\u001b[KQVariant::Private& QVariant::Private::operator=(const QVariant::Private&)\u001b[m\u001b[K’ is deprecated [\u001b[01;35m\u001b[K-Wdeprecated-copy\u001b[m\u001b[K]\n",
      "  265 |     { other.d = Private(\u001b[01;35m\u001b[K)\u001b[m\u001b[K; }\n",
      "      |                         \u001b[01;35m\u001b[K^\u001b[m\u001b[K\n",
      "\u001b[01m\u001b[K/home/student/.miniconda3/include/qt/QtCore/qvariant.h:380:16:\u001b[m\u001b[K \u001b[01;36m\u001b[Knote: \u001b[m\u001b[Kbecause ‘\u001b[01m\u001b[KQVariant::Private\u001b[m\u001b[K’ has user-provided ‘\u001b[01m\u001b[KQVariant::Private::Private(const QVariant::Private&)\u001b[m\u001b[K’\n",
      "  380 |         inline \u001b[01;36m\u001b[KPrivate\u001b[m\u001b[K(const Private &other) Q_DECL_NOTHROW\n",
      "      |                \u001b[01;36m\u001b[K^~~~~~~\u001b[m\u001b[K\n",
      "g++ -pipe -O2 -std=gnu++11 -Wall -W -dM -E -o moc_predefs.h /home/student/.miniconda3/mkspecs/features/data/dummy.cpp\n",
      "In file included from \u001b[01m\u001b[K/home/student/.miniconda3/include/qt/QtCore/qlocale.h:43\u001b[m\u001b[K,\n",
      "                 from \u001b[01m\u001b[K/home/student/.miniconda3/include/qt/QtCore/qtextstream.h:46\u001b[m\u001b[K,\n",
      "                 from \u001b[01m\u001b[K/home/student/.miniconda3/include/qt/QtCore/qdebug.h:49\u001b[m\u001b[K,\n",
      "                 from \u001b[01m\u001b[K/home/student/.miniconda3/include/qt/QtCore/QtDebug:1\u001b[m\u001b[K,\n",
      "                 from \u001b[01m\u001b[K../../project/utils/utils.cpp:2\u001b[m\u001b[K:\n",
      "\u001b[01m\u001b[K/home/student/.miniconda3/include/qt/QtCore/qvariant.h:\u001b[m\u001b[K In constructor ‘\u001b[01m\u001b[KQVariant::QVariant(QVariant&&)\u001b[m\u001b[K’:\n",
      "\u001b[01m\u001b[K/home/student/.miniconda3/include/qt/QtCore/qvariant.h:265:25:\u001b[m\u001b[K \u001b[01;35m\u001b[Kwarning: \u001b[m\u001b[Kimplicitly-declared ‘\u001b[01m\u001b[KQVariant::Private& QVariant::Private::operator=(const QVariant::Private&)\u001b[m\u001b[K’ is deprecated [\u001b[01;35m\u001b[K-Wdeprecated-copy\u001b[m\u001b[K]\n",
      "  265 |     { other.d = Private(\u001b[01;35m\u001b[K)\u001b[m\u001b[K; }\n",
      "      |                         \u001b[01;35m\u001b[K^\u001b[m\u001b[K\n",
      "\u001b[01m\u001b[K/home/student/.miniconda3/include/qt/QtCore/qvariant.h:380:16:\u001b[m\u001b[K \u001b[01;36m\u001b[Knote: \u001b[m\u001b[Kbecause ‘\u001b[01m\u001b[KQVariant::Private\u001b[m\u001b[K’ has user-provided ‘\u001b[01m\u001b[KQVariant::Private::Private(const QVariant::Private&)\u001b[m\u001b[K’\n",
      "  380 |         inline \u001b[01;36m\u001b[KPrivate\u001b[m\u001b[K(const Private &other) Q_DECL_NOTHROW\n",
      "      |                \u001b[01;36m\u001b[K^~~~~~~\u001b[m\u001b[K\n",
      "/home/student/.miniconda3/bin/moc -DUTILS_LIBRARY -DQT_DEPRECATED_WARNINGS -DQT_NO_DEBUG -DQT_CORE_LIB --include ./moc_predefs.h -I/home/student/.miniconda3/mkspecs/linux-g++ -I/home/student/oop_2020_jakub_rychlicki/07_qt/02_exercise/project/utils -I/home/student/.miniconda3/include/qt -I/home/student/.miniconda3/include/qt/QtCore -I. -I/usr/include/c++/9 -I/usr/include/x86_64-linux-gnu/c++/9 -I/usr/include/c++/9/backward -I/usr/lib/gcc/x86_64-linux-gnu/9/include -I/usr/local/include -I/usr/include/x86_64-linux-gnu -I/usr/include ../../project/utils/acceleration.h -o moc_acceleration.cpp\n",
      "/home/student/.miniconda3/bin/moc -DUTILS_LIBRARY -DQT_DEPRECATED_WARNINGS -DQT_NO_DEBUG -DQT_CORE_LIB --include ./moc_predefs.h -I/home/student/.miniconda3/mkspecs/linux-g++ -I/home/student/oop_2020_jakub_rychlicki/07_qt/02_exercise/project/utils -I/home/student/.miniconda3/include/qt -I/home/student/.miniconda3/include/qt/QtCore -I. -I/usr/include/c++/9 -I/usr/include/x86_64-linux-gnu/c++/9 -I/usr/include/c++/9/backward -I/usr/lib/gcc/x86_64-linux-gnu/9/include -I/usr/local/include -I/usr/include/x86_64-linux-gnu -I/usr/include ../../project/utils/displacement.h -o moc_displacement.cpp\n",
      "/home/student/.miniconda3/bin/moc -DUTILS_LIBRARY -DQT_DEPRECATED_WARNINGS -DQT_NO_DEBUG -DQT_CORE_LIB --include ./moc_predefs.h -I/home/student/.miniconda3/mkspecs/linux-g++ -I/home/student/oop_2020_jakub_rychlicki/07_qt/02_exercise/project/utils -I/home/student/.miniconda3/include/qt -I/home/student/.miniconda3/include/qt/QtCore -I. -I/usr/include/c++/9 -I/usr/include/x86_64-linux-gnu/c++/9 -I/usr/include/c++/9/backward -I/usr/lib/gcc/x86_64-linux-gnu/9/include -I/usr/local/include -I/usr/include/x86_64-linux-gnu -I/usr/include ../../project/utils/speed.h -o moc_speed.cpp\n",
      "g++ -c -pipe -O2 -std=gnu++11 -Wall -W -D_REENTRANT -fPIC -DUTILS_LIBRARY -DQT_DEPRECATED_WARNINGS -DQT_NO_DEBUG -DQT_CORE_LIB -I../../project/utils -I. -I/home/student/.miniconda3/include/qt -I/home/student/.miniconda3/include/qt/QtCore -I. -I/home/student/.miniconda3/mkspecs/linux-g++ -o moc_acceleration.o moc_acceleration.cpp\n",
      "g++ -c -pipe -O2 -std=gnu++11 -Wall -W -D_REENTRANT -fPIC -DUTILS_LIBRARY -DQT_DEPRECATED_WARNINGS -DQT_NO_DEBUG -DQT_CORE_LIB -I../../project/utils -I. -I/home/student/.miniconda3/include/qt -I/home/student/.miniconda3/include/qt/QtCore -I. -I/home/student/.miniconda3/mkspecs/linux-g++ -o moc_speed.o moc_speed.cpp\n",
      "g++ -c -pipe -O2 -std=gnu++11 -Wall -W -D_REENTRANT -fPIC -DUTILS_LIBRARY -DQT_DEPRECATED_WARNINGS -DQT_NO_DEBUG -DQT_CORE_LIB -I../../project/utils -I. -I/home/student/.miniconda3/include/qt -I/home/student/.miniconda3/include/qt/QtCore -I. -I/home/student/.miniconda3/mkspecs/linux-g++ -o moc_displacement.o moc_displacement.cpp\n"
     ]
    },
    {
     "name": "stdout",
     "output_type": "stream",
     "text": [
      "rm -f libutils.so.1.0.0 libutils.so libutils.so.1 libutils.so.1.0\n",
      "g++ -Wl,-O1 -Wl,-rpath,/home/student/.miniconda3/lib -shared -Wl,-soname,libutils.so.1 -o libutils.so.1.0.0 acceleration.o displacement.o speed.o utils.o moc_acceleration.o moc_displacement.o moc_speed.o  -L/home/student/.miniconda3/lib -lQt5Core -lpthread  \n",
      "ln -s libutils.so.1.0.0 libutils.so\n",
      "ln -s libutils.so.1.0.0 libutils.so.1\n",
      "ln -s libutils.so.1.0.0 libutils.so.1.0\n",
      "make[1]: Leaving directory '/home/student/oop_2020_jakub_rychlicki/07_qt/02_exercise/build-project/utils'\n",
      "cd cli/ && ( test -e Makefile || /home/student/.miniconda3/bin/qmake -o Makefile /home/student/oop_2020_jakub_rychlicki/07_qt/02_exercise/project/cli/cli.pro ) && make -f Makefile \n",
      "cd gui/ && ( test -e Makefile || /home/student/.miniconda3/bin/qmake -o Makefile /home/student/oop_2020_jakub_rychlicki/07_qt/02_exercise/project/gui/gui.pro ) && make -f Makefile \n",
      "cd tests/ && ( test -e Makefile || /home/student/.miniconda3/bin/qmake -o Makefile /home/student/oop_2020_jakub_rychlicki/07_qt/02_exercise/project/tests/tests.pro ) && make -f Makefile \n",
      "make[1]: Entering directory '/home/student/oop_2020_jakub_rychlicki/07_qt/02_exercise/build-project/tests'\n",
      "cd acceleration/ && ( test -e Makefile || /home/student/.miniconda3/bin/qmake -o Makefile /home/student/oop_2020_jakub_rychlicki/07_qt/02_exercise/project/tests/acceleration/acceleration.pro ) && make -f Makefile \n",
      "cd displacement/ && ( test -e Makefile || /home/student/.miniconda3/bin/qmake -o Makefile /home/student/oop_2020_jakub_rychlicki/07_qt/02_exercise/project/tests/displacement/displacement.pro ) && make -f Makefile \n",
      "make[1]: Entering directory '/home/student/oop_2020_jakub_rychlicki/07_qt/02_exercise/build-project/cli'\n",
      "g++ -c -pipe -O2 -std=gnu++11 -Wall -W -D_REENTRANT -fPIC -DQT_DEPRECATED_WARNINGS -DQT_NO_DEBUG -DQT_CORE_LIB -I../../project/cli -I. -I../../project/utils -I/home/student/.miniconda3/include/qt -I/home/student/.miniconda3/include/qt/QtCore -I. -I/home/student/.miniconda3/mkspecs/linux-g++ -o main.o ../../project/cli/main.cpp\n",
      "make[1]: Entering directory '/home/student/oop_2020_jakub_rychlicki/07_qt/02_exercise/build-project/gui'\n",
      "/home/student/.miniconda3/bin/uic ../../project/gui/mainwindow.ui -o ui_mainwindow.h\n",
      "g++ -c -pipe -O2 -std=gnu++11 -Wall -W -D_REENTRANT -fPIC -DQT_DEPRECATED_WARNINGS -DQT_NO_DEBUG -DQT_WIDGETS_LIB -DQT_GUI_LIB -DQT_CORE_LIB -I../../project/gui -I. -I../../project/utils -I/home/student/.miniconda3/include/qt -I/home/student/.miniconda3/include/qt/QtWidgets -I/home/student/.miniconda3/include/qt/QtGui -I/home/student/.miniconda3/include/qt/QtCore -I. -I. -I/home/student/.miniconda3/mkspecs/linux-g++ -o main.o ../../project/gui/main.cpp\n",
      "make[2]: Entering directory '/home/student/oop_2020_jakub_rychlicki/07_qt/02_exercise/build-project/tests/displacement'\n",
      "g++ -pipe -O2 -Wall -W -dM -E -o moc_predefs.h /home/student/.miniconda3/mkspecs/features/data/dummy.cpp\n",
      "make[2]: Entering directory '/home/student/oop_2020_jakub_rychlicki/07_qt/02_exercise/build-project/tests/acceleration'\n",
      "g++ -pipe -O2 -Wall -W -dM -E -o moc_predefs.h /home/student/.miniconda3/mkspecs/features/data/dummy.cpp\n",
      "/home/student/.miniconda3/bin/moc -DQT_NO_DEBUG -DQT_TESTLIB_LIB -DQT_CORE_LIB -DQT_TESTCASE_BUILDDIR='\"/home/student/oop_2020_jakub_rychlicki/07_qt/02_exercise/build-project/tests/displacement\"' --include ./moc_predefs.h -I/home/student/.miniconda3/mkspecs/linux-g++ -I/home/student/oop_2020_jakub_rychlicki/07_qt/02_exercise/project/tests/displacement -I/home/student/oop_2020_jakub_rychlicki/07_qt/02_exercise/project/utils -I/home/student/.miniconda3/include/qt -I/home/student/.miniconda3/include/qt/QtTest -I/home/student/.miniconda3/include/qt/QtCore -I. -I/usr/include/c++/9 -I/usr/include/x86_64-linux-gnu/c++/9 -I/usr/include/c++/9/backward -I/usr/lib/gcc/x86_64-linux-gnu/9/include -I/usr/local/include -I/usr/include/x86_64-linux-gnu -I/usr/include ../../../project/tests/displacement/tst_displacementtest.cpp -o tst_displacementtest.moc\n",
      "/home/student/.miniconda3/bin/moc -DQT_NO_DEBUG -DQT_TESTLIB_LIB -DQT_CORE_LIB -DQT_TESTCASE_BUILDDIR='\"/home/student/oop_2020_jakub_rychlicki/07_qt/02_exercise/build-project/tests/acceleration\"' --include ./moc_predefs.h -I/home/student/.miniconda3/mkspecs/linux-g++ -I/home/student/oop_2020_jakub_rychlicki/07_qt/02_exercise/project/tests/acceleration -I/home/student/oop_2020_jakub_rychlicki/07_qt/02_exercise/project/utils -I/home/student/.miniconda3/include/qt -I/home/student/.miniconda3/include/qt/QtTest -I/home/student/.miniconda3/include/qt/QtCore -I. -I/usr/include/c++/9 -I/usr/include/x86_64-linux-gnu/c++/9 -I/usr/include/c++/9/backward -I/usr/lib/gcc/x86_64-linux-gnu/9/include -I/usr/local/include -I/usr/include/x86_64-linux-gnu -I/usr/include ../../../project/tests/acceleration/tst_accelerationtest.cpp -o tst_accelerationtest.moc\n",
      "g++ -c -pipe -O2 -Wall -W -D_REENTRANT -fPIC -DQT_NO_DEBUG -DQT_TESTLIB_LIB -DQT_CORE_LIB -DQT_TESTCASE_BUILDDIR='\"/home/student/oop_2020_jakub_rychlicki/07_qt/02_exercise/build-project/tests/displacement\"' -I../../../project/tests/displacement -I. -I../../../project/utils -I/home/student/.miniconda3/include/qt -I/home/student/.miniconda3/include/qt/QtTest -I/home/student/.miniconda3/include/qt/QtCore -I. -I/home/student/.miniconda3/mkspecs/linux-g++ -o tst_displacementtest.o ../../../project/tests/displacement/tst_displacementtest.cpp\n",
      "g++ -c -pipe -O2 -Wall -W -D_REENTRANT -fPIC -DQT_NO_DEBUG -DQT_TESTLIB_LIB -DQT_CORE_LIB -DQT_TESTCASE_BUILDDIR='\"/home/student/oop_2020_jakub_rychlicki/07_qt/02_exercise/build-project/tests/acceleration\"' -I../../../project/tests/acceleration -I. -I../../../project/utils -I/home/student/.miniconda3/include/qt -I/home/student/.miniconda3/include/qt/QtTest -I/home/student/.miniconda3/include/qt/QtCore -I. -I/home/student/.miniconda3/mkspecs/linux-g++ -o tst_accelerationtest.o ../../../project/tests/acceleration/tst_accelerationtest.cpp\n",
      "In file included from \u001b[01m\u001b[K/home/student/.miniconda3/include/qt/QtCore/qlocale.h:43\u001b[m\u001b[K,\n",
      "                 from \u001b[01m\u001b[K/home/student/.miniconda3/include/qt/QtCore/qtextstream.h:46\u001b[m\u001b[K,\n",
      "                 from \u001b[01m\u001b[K/home/student/.miniconda3/include/qt/QtCore/qdebug.h:49\u001b[m\u001b[K,\n",
      "                 from \u001b[01m\u001b[K/home/student/.miniconda3/include/qt/QtCore/QDebug:1\u001b[m\u001b[K,\n",
      "                 from \u001b[01m\u001b[K../../project/cli/main.cpp:2\u001b[m\u001b[K:\n",
      "\u001b[01m\u001b[K/home/student/.miniconda3/include/qt/QtCore/qvariant.h:\u001b[m\u001b[K In constructor ‘\u001b[01m\u001b[KQVariant::QVariant(QVariant&&)\u001b[m\u001b[K’:\n",
      "\u001b[01m\u001b[K/home/student/.miniconda3/include/qt/QtCore/qvariant.h:265:25:\u001b[m\u001b[K \u001b[01;35m\u001b[Kwarning: \u001b[m\u001b[Kimplicitly-declared ‘\u001b[01m\u001b[KQVariant::Private& QVariant::Private::operator=(const QVariant::Private&)\u001b[m\u001b[K’ is deprecated [\u001b[01;35m\u001b[K-Wdeprecated-copy\u001b[m\u001b[K]\n",
      "  265 |     { other.d = Private(\u001b[01;35m\u001b[K)\u001b[m\u001b[K; }\n",
      "      |                         \u001b[01;35m\u001b[K^\u001b[m\u001b[K\n",
      "\u001b[01m\u001b[K/home/student/.miniconda3/include/qt/QtCore/qvariant.h:380:16:\u001b[m\u001b[K \u001b[01;36m\u001b[Knote: \u001b[m\u001b[Kbecause ‘\u001b[01m\u001b[KQVariant::Private\u001b[m\u001b[K’ has user-provided ‘\u001b[01m\u001b[KQVariant::Private::Private(const QVariant::Private&)\u001b[m\u001b[K’\n",
      "  380 |         inline \u001b[01;36m\u001b[KPrivate\u001b[m\u001b[K(const Private &other) Q_DECL_NOTHROW\n",
      "      |                \u001b[01;36m\u001b[K^~~~~~~\u001b[m\u001b[K\n",
      "g++ -Wl,-O1 -Wl,-rpath,/home/student/.miniconda3/lib -o cli main.o   -L/home/student/oop_2020_jakub_rychlicki/07_qt/02_exercise/build-project/cli/../utils/ -lutils -L/home/student/.miniconda3/lib -lQt5Core -lpthread \n",
      "In file included from \u001b[01m\u001b[K/home/student/.miniconda3/include/qt/QtCore/qlocale.h:43\u001b[m\u001b[K,\n",
      "                 from \u001b[01m\u001b[K/home/student/.miniconda3/include/qt/QtGui/qguiapplication.h:47\u001b[m\u001b[K,\n",
      "                 from \u001b[01m\u001b[K/home/student/.miniconda3/include/qt/QtWidgets/qapplication.h:52\u001b[m\u001b[K,\n",
      "                 from \u001b[01m\u001b[K/home/student/.miniconda3/include/qt/QtWidgets/QApplication:1\u001b[m\u001b[K,\n",
      "                 from \u001b[01m\u001b[K../../project/gui/main.cpp:3\u001b[m\u001b[K:\n",
      "\u001b[01m\u001b[K/home/student/.miniconda3/include/qt/QtCore/qvariant.h:\u001b[m\u001b[K In constructor ‘\u001b[01m\u001b[KQVariant::QVariant(QVariant&&)\u001b[m\u001b[K’:\n",
      "\u001b[01m\u001b[K/home/student/.miniconda3/include/qt/QtCore/qvariant.h:265:25:\u001b[m\u001b[K \u001b[01;35m\u001b[Kwarning: \u001b[m\u001b[Kimplicitly-declared ‘\u001b[01m\u001b[KQVariant::Private& QVariant::Private::operator=(const QVariant::Private&)\u001b[m\u001b[K’ is deprecated [\u001b[01;35m\u001b[K-Wdeprecated-copy\u001b[m\u001b[K]\n",
      "  265 |     { other.d = Private(\u001b[01;35m\u001b[K)\u001b[m\u001b[K; }\n",
      "      |                         \u001b[01;35m\u001b[K^\u001b[m\u001b[K\n",
      "\u001b[01m\u001b[K/home/student/.miniconda3/include/qt/QtCore/qvariant.h:380:16:\u001b[m\u001b[K \u001b[01;36m\u001b[Knote: \u001b[m\u001b[Kbecause ‘\u001b[01m\u001b[KQVariant::Private\u001b[m\u001b[K’ has user-provided ‘\u001b[01m\u001b[KQVariant::Private::Private(const QVariant::Private&)\u001b[m\u001b[K’\n",
      "  380 |         inline \u001b[01;36m\u001b[KPrivate\u001b[m\u001b[K(const Private &other) Q_DECL_NOTHROW\n",
      "      |                \u001b[01;36m\u001b[K^~~~~~~\u001b[m\u001b[K\n"
     ]
    },
    {
     "name": "stdout",
     "output_type": "stream",
     "text": [
      "make[1]: Leaving directory '/home/student/oop_2020_jakub_rychlicki/07_qt/02_exercise/build-project/cli'\n",
      "g++ -c -pipe -O2 -std=gnu++11 -Wall -W -D_REENTRANT -fPIC -DQT_DEPRECATED_WARNINGS -DQT_NO_DEBUG -DQT_WIDGETS_LIB -DQT_GUI_LIB -DQT_CORE_LIB -I../../project/gui -I. -I../../project/utils -I/home/student/.miniconda3/include/qt -I/home/student/.miniconda3/include/qt/QtWidgets -I/home/student/.miniconda3/include/qt/QtGui -I/home/student/.miniconda3/include/qt/QtCore -I. -I. -I/home/student/.miniconda3/mkspecs/linux-g++ -o mainwindow.o ../../project/gui/mainwindow.cpp\n",
      "g++ -pipe -O2 -std=gnu++11 -Wall -W -dM -E -o moc_predefs.h /home/student/.miniconda3/mkspecs/features/data/dummy.cpp\n",
      "cd speed/ && ( test -e Makefile || /home/student/.miniconda3/bin/qmake -o Makefile /home/student/oop_2020_jakub_rychlicki/07_qt/02_exercise/project/tests/speed/speed.pro ) && make -f Makefile \n",
      "In file included from \u001b[01m\u001b[K/home/student/.miniconda3/include/qt/QtCore/qabstractitemmodel.h:43\u001b[m\u001b[K,\n",
      "                 from \u001b[01m\u001b[K/home/student/.miniconda3/include/qt/QtCore/QtCore:7\u001b[m\u001b[K,\n",
      "                 from \u001b[01m\u001b[K/home/student/.miniconda3/include/qt/QtTest/QtTestDepends:3\u001b[m\u001b[K,\n",
      "                 from \u001b[01m\u001b[K/home/student/.miniconda3/include/qt/QtTest/QtTest:3\u001b[m\u001b[K,\n",
      "                 from \u001b[01m\u001b[K../../../project/tests/acceleration/tst_accelerationtest.cpp:1\u001b[m\u001b[K:\n",
      "\u001b[01m\u001b[K/home/student/.miniconda3/include/qt/QtCore/qvariant.h:\u001b[m\u001b[K In constructor ‘\u001b[01m\u001b[KQVariant::QVariant(QVariant&&)\u001b[m\u001b[K’:\n",
      "\u001b[01m\u001b[K/home/student/.miniconda3/include/qt/QtCore/qvariant.h:265:25:\u001b[m\u001b[K \u001b[01;35m\u001b[Kwarning: \u001b[m\u001b[Kimplicitly-declared ‘\u001b[01m\u001b[Kconstexpr QVariant::Private& QVariant::Private::operator=(const QVariant::Private&)\u001b[m\u001b[K’ is deprecated [\u001b[01;35m\u001b[K-Wdeprecated-copy\u001b[m\u001b[K]\n",
      "  265 |     { other.d = Private(\u001b[01;35m\u001b[K)\u001b[m\u001b[K; }\n",
      "      |                         \u001b[01;35m\u001b[K^\u001b[m\u001b[K\n",
      "\u001b[01m\u001b[K/home/student/.miniconda3/include/qt/QtCore/qvariant.h:380:16:\u001b[m\u001b[K \u001b[01;36m\u001b[Knote: \u001b[m\u001b[Kbecause ‘\u001b[01m\u001b[KQVariant::Private\u001b[m\u001b[K’ has user-provided ‘\u001b[01m\u001b[KQVariant::Private::Private(const QVariant::Private&)\u001b[m\u001b[K’\n",
      "  380 |         inline \u001b[01;36m\u001b[KPrivate\u001b[m\u001b[K(const Private &other) Q_DECL_NOTHROW\n",
      "      |                \u001b[01;36m\u001b[K^~~~~~~\u001b[m\u001b[K\n",
      "In file included from \u001b[01m\u001b[K/home/student/.miniconda3/include/qt/QtCore/qabstractitemmodel.h:43\u001b[m\u001b[K,\n",
      "                 from \u001b[01m\u001b[K/home/student/.miniconda3/include/qt/QtCore/QtCore:7\u001b[m\u001b[K,\n",
      "                 from \u001b[01m\u001b[K/home/student/.miniconda3/include/qt/QtTest/QtTestDepends:3\u001b[m\u001b[K,\n",
      "                 from \u001b[01m\u001b[K/home/student/.miniconda3/include/qt/QtTest/QtTest:3\u001b[m\u001b[K,\n",
      "                 from \u001b[01m\u001b[K../../../project/tests/displacement/tst_displacementtest.cpp:1\u001b[m\u001b[K:\n",
      "\u001b[01m\u001b[K/home/student/.miniconda3/include/qt/QtCore/qvariant.h:\u001b[m\u001b[K In constructor ‘\u001b[01m\u001b[KQVariant::QVariant(QVariant&&)\u001b[m\u001b[K’:\n",
      "\u001b[01m\u001b[K/home/student/.miniconda3/include/qt/QtCore/qvariant.h:265:25:\u001b[m\u001b[K \u001b[01;35m\u001b[Kwarning: \u001b[m\u001b[Kimplicitly-declared ‘\u001b[01m\u001b[Kconstexpr QVariant::Private& QVariant::Private::operator=(const QVariant::Private&)\u001b[m\u001b[K’ is deprecated [\u001b[01;35m\u001b[K-Wdeprecated-copy\u001b[m\u001b[K]\n",
      "  265 |     { other.d = Private(\u001b[01;35m\u001b[K)\u001b[m\u001b[K; }\n",
      "      |                         \u001b[01;35m\u001b[K^\u001b[m\u001b[K\n",
      "\u001b[01m\u001b[K/home/student/.miniconda3/include/qt/QtCore/qvariant.h:380:16:\u001b[m\u001b[K \u001b[01;36m\u001b[Knote: \u001b[m\u001b[Kbecause ‘\u001b[01m\u001b[KQVariant::Private\u001b[m\u001b[K’ has user-provided ‘\u001b[01m\u001b[KQVariant::Private::Private(const QVariant::Private&)\u001b[m\u001b[K’\n",
      "  380 |         inline \u001b[01;36m\u001b[KPrivate\u001b[m\u001b[K(const Private &other) Q_DECL_NOTHROW\n",
      "      |                \u001b[01;36m\u001b[K^~~~~~~\u001b[m\u001b[K\n",
      "make[2]: Entering directory '/home/student/oop_2020_jakub_rychlicki/07_qt/02_exercise/build-project/tests/speed'\n",
      "g++ -pipe -O2 -Wall -W -dM -E -o moc_predefs.h /home/student/.miniconda3/mkspecs/features/data/dummy.cpp\n",
      "/home/student/.miniconda3/bin/moc -DQT_NO_DEBUG -DQT_TESTLIB_LIB -DQT_CORE_LIB -DQT_TESTCASE_BUILDDIR='\"/home/student/oop_2020_jakub_rychlicki/07_qt/02_exercise/build-project/tests/speed\"' --include ./moc_predefs.h -I/home/student/.miniconda3/mkspecs/linux-g++ -I/home/student/oop_2020_jakub_rychlicki/07_qt/02_exercise/project/tests/speed -I/home/student/oop_2020_jakub_rychlicki/07_qt/02_exercise/project/utils -I/home/student/.miniconda3/include/qt -I/home/student/.miniconda3/include/qt/QtTest -I/home/student/.miniconda3/include/qt/QtCore -I. -I/usr/include/c++/9 -I/usr/include/x86_64-linux-gnu/c++/9 -I/usr/include/c++/9/backward -I/usr/lib/gcc/x86_64-linux-gnu/9/include -I/usr/local/include -I/usr/include/x86_64-linux-gnu -I/usr/include ../../../project/tests/speed/tst_speedtest.cpp -o tst_speedtest.moc\n",
      "g++ -c -pipe -O2 -Wall -W -D_REENTRANT -fPIC -DQT_NO_DEBUG -DQT_TESTLIB_LIB -DQT_CORE_LIB -DQT_TESTCASE_BUILDDIR='\"/home/student/oop_2020_jakub_rychlicki/07_qt/02_exercise/build-project/tests/speed\"' -I../../../project/tests/speed -I. -I../../../project/utils -I/home/student/.miniconda3/include/qt -I/home/student/.miniconda3/include/qt/QtTest -I/home/student/.miniconda3/include/qt/QtCore -I. -I/home/student/.miniconda3/mkspecs/linux-g++ -o tst_speedtest.o ../../../project/tests/speed/tst_speedtest.cpp\n",
      "In file included from \u001b[01m\u001b[K/home/student/.miniconda3/include/qt/QtCore/QVariant:1\u001b[m\u001b[K,\n",
      "                 from \u001b[01m\u001b[K./ui_mainwindow.h:12\u001b[m\u001b[K,\n",
      "                 from \u001b[01m\u001b[K../../project/gui/mainwindow.cpp:2\u001b[m\u001b[K:\n",
      "\u001b[01m\u001b[K/home/student/.miniconda3/include/qt/QtCore/qvariant.h:\u001b[m\u001b[K In constructor ‘\u001b[01m\u001b[KQVariant::QVariant(QVariant&&)\u001b[m\u001b[K’:\n",
      "\u001b[01m\u001b[K/home/student/.miniconda3/include/qt/QtCore/qvariant.h:265:25:\u001b[m\u001b[K \u001b[01;35m\u001b[Kwarning: \u001b[m\u001b[Kimplicitly-declared ‘\u001b[01m\u001b[KQVariant::Private& QVariant::Private::operator=(const QVariant::Private&)\u001b[m\u001b[K’ is deprecated [\u001b[01;35m\u001b[K-Wdeprecated-copy\u001b[m\u001b[K]\n",
      "  265 |     { other.d = Private(\u001b[01;35m\u001b[K)\u001b[m\u001b[K; }\n",
      "      |                         \u001b[01;35m\u001b[K^\u001b[m\u001b[K\n",
      "\u001b[01m\u001b[K/home/student/.miniconda3/include/qt/QtCore/qvariant.h:380:16:\u001b[m\u001b[K \u001b[01;36m\u001b[Knote: \u001b[m\u001b[Kbecause ‘\u001b[01m\u001b[KQVariant::Private\u001b[m\u001b[K’ has user-provided ‘\u001b[01m\u001b[KQVariant::Private::Private(const QVariant::Private&)\u001b[m\u001b[K’\n",
      "  380 |         inline \u001b[01;36m\u001b[KPrivate\u001b[m\u001b[K(const Private &other) Q_DECL_NOTHROW\n",
      "      |                \u001b[01;36m\u001b[K^~~~~~~\u001b[m\u001b[K\n",
      "In file included from \u001b[01m\u001b[K/home/student/.miniconda3/include/qt/QtCore/qobject.h:49\u001b[m\u001b[K,\n",
      "                 from \u001b[01m\u001b[K/home/student/.miniconda3/include/qt/QtCore/qabstractanimation.h:43\u001b[m\u001b[K,\n",
      "                 from \u001b[01m\u001b[K/home/student/.miniconda3/include/qt/QtCore/QtCore:5\u001b[m\u001b[K,\n",
      "                 from \u001b[01m\u001b[K/home/student/.miniconda3/include/qt/QtTest/QtTestDepends:3\u001b[m\u001b[K,\n",
      "                 from \u001b[01m\u001b[K/home/student/.miniconda3/include/qt/QtTest/QtTest:3\u001b[m\u001b[K,\n",
      "                 from \u001b[01m\u001b[K../../../project/tests/displacement/tst_displacementtest.cpp:1\u001b[m\u001b[K:\n",
      "/home/student/.miniconda3/include/qt/QtCore/qlist.h: In instantiation of ‘\u001b[01m\u001b[KQList<T>::iterator QList<T>::erase(QList<T>::iterator) [with T = QList<QVariant>]\u001b[m\u001b[K’:\n",
      "\u001b[01m\u001b[K/home/student/.miniconda3/include/qt/QtCore/qlist.h:351:55:\u001b[m\u001b[K   required from ‘\u001b[01m\u001b[Kvoid QList<T>::removeFirst() [with T = QList<QVariant>]\u001b[m\u001b[K’\n",
      "\u001b[01m\u001b[K/home/student/.miniconda3/include/qt/QtCore/qlist.h:562:18:\u001b[m\u001b[K   required from ‘\u001b[01m\u001b[KT QList<T>::takeFirst() [with T = QList<QVariant>]\u001b[m\u001b[K’\n",
      "\u001b[01m\u001b[K../../../project/tests/displacement/tst_displacementtest.cpp:16:39:\u001b[m\u001b[K   required from here\n",
      "\u001b[01m\u001b[K/home/student/.miniconda3/include/qt/QtCore/qlist.h:533:12:\u001b[m\u001b[K \u001b[01;35m\u001b[Kwarning: \u001b[m\u001b[Kimplicitly-declared ‘\u001b[01m\u001b[Kconstexpr QList<QList<QVariant> >::iterator& QList<QList<QVariant> >::iterator::operator=(const QList<QList<QVariant> >::iterator&)\u001b[m\u001b[K’ is deprecated [\u001b[01;35m\u001b[K-Wdeprecated-copy\u001b[m\u001b[K]\n",
      "  533 |         it = begin(); // implies detach()\n",
      "\u001b[01m\u001b[K/home/student/.miniconda3/include/qt/QtCore/qlist.h:239:16:\u001b[m\u001b[K \u001b[01;36m\u001b[Knote: \u001b[m\u001b[Kbecause ‘\u001b[01m\u001b[KQList<QList<QVariant> >::iterator\u001b[m\u001b[K’ has user-provided ‘\u001b[01m\u001b[KQList<T>::iterator::iterator(const QList<T>::iterator&) [with T = QList<QVariant>]\u001b[m\u001b[K’\n",
      "  239 |         inline \u001b[01;36m\u001b[Kiterator\u001b[m\u001b[K(const iterator &o) Q_DECL_NOTHROW : i(o.i){}\n",
      "      |                \u001b[01;36m\u001b[K^~~~~~~~\u001b[m\u001b[K\n",
      "In file included from \u001b[01m\u001b[K/home/student/.miniconda3/include/qt/QtWidgets/qabstractitemdelegate.h:45\u001b[m\u001b[K,\n",
      "                 from \u001b[01m\u001b[K/home/student/.miniconda3/include/qt/QtWidgets/qabstractitemview.h:47\u001b[m\u001b[K,\n",
      "                 from \u001b[01m\u001b[K/home/student/.miniconda3/include/qt/QtWidgets/qheaderview.h:44\u001b[m\u001b[K,\n",
      "                 from \u001b[01m\u001b[K/home/student/.miniconda3/include/qt/QtWidgets/QHeaderView:1\u001b[m\u001b[K,\n",
      "                 from \u001b[01m\u001b[K./ui_mainwindow.h:16\u001b[m\u001b[K,\n",
      "                 from \u001b[01m\u001b[K../../project/gui/mainwindow.cpp:2\u001b[m\u001b[K:\n",
      "\u001b[01m\u001b[K/home/student/.miniconda3/include/qt/QtWidgets/qstyleoption.h:\u001b[m\u001b[K In copy constructor ‘\u001b[01m\u001b[KQStyleOptionFocusRect::QStyleOptionFocusRect(const QStyleOptionFocusRect&)\u001b[m\u001b[K’:\n",
      "\u001b[01m\u001b[K/home/student/.miniconda3/include/qt/QtWidgets/qstyleoption.h:120:103:\u001b[m\u001b[K \u001b[01;35m\u001b[Kwarning: \u001b[m\u001b[Kimplicitly-declared ‘\u001b[01m\u001b[KQStyleOptionFocusRect& QStyleOptionFocusRect::operator=(const QStyleOptionFocusRect&)\u001b[m\u001b[K’ is deprecated [\u001b[01;35m\u001b[K-Wdeprecated-copy\u001b[m\u001b[K]\n",
      "  120 |     QStyleOptionFocusRect(const QStyleOptionFocusRect &other) : QStyleOption(Version, Type) { *this = \u001b[01;35m\u001b[Kother\u001b[m\u001b[K; }\n",
      "      |                                                                                                       \u001b[01;35m\u001b[K^~~~~\u001b[m\u001b[K\n",
      "\u001b[01m\u001b[K/home/student/.miniconda3/include/qt/QtWidgets/qstyleoption.h:120:5:\u001b[m\u001b[K \u001b[01;36m\u001b[Knote: \u001b[m\u001b[Kbecause ‘\u001b[01m\u001b[KQStyleOptionFocusRect\u001b[m\u001b[K’ has user-provided ‘\u001b[01m\u001b[KQStyleOptionFocusRect::QStyleOptionFocusRect(const QStyleOptionFocusRect&)\u001b[m\u001b[K’\n",
      "  120 |     \u001b[01;36m\u001b[KQStyleOptionFocusRect\u001b[m\u001b[K(const QStyleOptionFocusRect &other) : QStyleOption(Version, Type) { *this = other; }\n",
      "      |     \u001b[01;36m\u001b[K^~~~~~~~~~~~~~~~~~~~~\u001b[m\u001b[K\n",
      "\u001b[01m\u001b[K/home/student/.miniconda3/include/qt/QtWidgets/qstyleoption.h:\u001b[m\u001b[K In copy constructor ‘\u001b[01m\u001b[KQStyleOptionFrame::QStyleOptionFrame(const QStyleOptionFrame&)\u001b[m\u001b[K’:\n",
      "\u001b[01m\u001b[K/home/student/.miniconda3/include/qt/QtWidgets/qstyleoption.h:144:95:\u001b[m\u001b[K \u001b[01;35m\u001b[Kwarning: \u001b[m\u001b[Kimplicitly-declared ‘\u001b[01m\u001b[KQStyleOptionFrame& QStyleOptionFrame::operator=(const QStyleOptionFrame&)\u001b[m\u001b[K’ is deprecated [\u001b[01;35m\u001b[K-Wdeprecated-copy\u001b[m\u001b[K]\n",
      "  144 |     QStyleOptionFrame(const QStyleOptionFrame &other) : QStyleOption(Version, Type) { *this = \u001b[01;35m\u001b[Kother\u001b[m\u001b[K; }\n",
      "      |                                                                                               \u001b[01;35m\u001b[K^~~~~\u001b[m\u001b[K\n",
      "\u001b[01m\u001b[K/home/student/.miniconda3/include/qt/QtWidgets/qstyleoption.h:144:5:\u001b[m\u001b[K \u001b[01;36m\u001b[Knote: \u001b[m\u001b[Kbecause ‘\u001b[01m\u001b[KQStyleOptionFrame\u001b[m\u001b[K’ has user-provided ‘\u001b[01m\u001b[KQStyleOptionFrame::QStyleOptionFrame(const QStyleOptionFrame&)\u001b[m\u001b[K’\n",
      "  144 |     \u001b[01;36m\u001b[KQStyleOptionFrame\u001b[m\u001b[K(const QStyleOptionFrame &other) : QStyleOption(Version, Type) { *this = other; }\n",
      "      |     \u001b[01;36m\u001b[K^~~~~~~~~~~~~~~~~\u001b[m\u001b[K\n"
     ]
    },
    {
     "name": "stdout",
     "output_type": "stream",
     "text": [
      "\u001b[01m\u001b[K/home/student/.miniconda3/include/qt/QtWidgets/qstyleoption.h:\u001b[m\u001b[K In copy constructor ‘\u001b[01m\u001b[KQStyleOptionTabWidgetFrame::QStyleOptionTabWidgetFrame(const QStyleOptionTabWidgetFrame&)\u001b[m\u001b[K’:\n",
      "\u001b[01m\u001b[K/home/student/.miniconda3/include/qt/QtWidgets/qstyleoption.h:173:49:\u001b[m\u001b[K \u001b[01;35m\u001b[Kwarning: \u001b[m\u001b[Kimplicitly-declared ‘\u001b[01m\u001b[KQStyleOptionTabWidgetFrame& QStyleOptionTabWidgetFrame::operator=(const QStyleOptionTabWidgetFrame&)\u001b[m\u001b[K’ is deprecated [\u001b[01;35m\u001b[K-Wdeprecated-copy\u001b[m\u001b[K]\n",
      "  173 |         : QStyleOption(Version, Type) { *this = \u001b[01;35m\u001b[Kother\u001b[m\u001b[K; }\n",
      "      |                                                 \u001b[01;35m\u001b[K^~~~~\u001b[m\u001b[K\n",
      "\u001b[01m\u001b[K/home/student/.miniconda3/include/qt/QtWidgets/qstyleoption.h:172:12:\u001b[m\u001b[K \u001b[01;36m\u001b[Knote: \u001b[m\u001b[Kbecause ‘\u001b[01m\u001b[KQStyleOptionTabWidgetFrame\u001b[m\u001b[K’ has user-provided ‘\u001b[01m\u001b[KQStyleOptionTabWidgetFrame::QStyleOptionTabWidgetFrame(const QStyleOptionTabWidgetFrame&)\u001b[m\u001b[K’\n",
      "  172 |     inline \u001b[01;36m\u001b[KQStyleOptionTabWidgetFrame\u001b[m\u001b[K(const QStyleOptionTabWidgetFrame &other)\n",
      "      |            \u001b[01;36m\u001b[K^~~~~~~~~~~~~~~~~~~~~~~~~~\u001b[m\u001b[K\n",
      "\u001b[01m\u001b[K/home/student/.miniconda3/include/qt/QtWidgets/qstyleoption.h:\u001b[m\u001b[K In copy constructor ‘\u001b[01m\u001b[KQStyleOptionTabBarBase::QStyleOptionTabBarBase(const QStyleOptionTabBarBase&)\u001b[m\u001b[K’:\n",
      "\u001b[01m\u001b[K/home/student/.miniconda3/include/qt/QtWidgets/qstyleoption.h:196:105:\u001b[m\u001b[K \u001b[01;35m\u001b[Kwarning: \u001b[m\u001b[Kimplicitly-declared ‘\u001b[01m\u001b[KQStyleOptionTabBarBase& QStyleOptionTabBarBase::operator=(const QStyleOptionTabBarBase&)\u001b[m\u001b[K’ is deprecated [\u001b[01;35m\u001b[K-Wdeprecated-copy\u001b[m\u001b[K]\n",
      "  196 |     QStyleOptionTabBarBase(const QStyleOptionTabBarBase &other) : QStyleOption(Version, Type) { *this = \u001b[01;35m\u001b[Kother\u001b[m\u001b[K; }\n",
      "      |                                                                                                         \u001b[01;35m\u001b[K^~~~~\u001b[m\u001b[K\n",
      "\u001b[01m\u001b[K/home/student/.miniconda3/include/qt/QtWidgets/qstyleoption.h:196:5:\u001b[m\u001b[K \u001b[01;36m\u001b[Knote: \u001b[m\u001b[Kbecause ‘\u001b[01m\u001b[KQStyleOptionTabBarBase\u001b[m\u001b[K’ has user-provided ‘\u001b[01m\u001b[KQStyleOptionTabBarBase::QStyleOptionTabBarBase(const QStyleOptionTabBarBase&)\u001b[m\u001b[K’\n",
      "  196 |     \u001b[01;36m\u001b[KQStyleOptionTabBarBase\u001b[m\u001b[K(const QStyleOptionTabBarBase &other) : QStyleOption(Version, Type) { *this = other; }\n",
      "      |     \u001b[01;36m\u001b[K^~~~~~~~~~~~~~~~~~~~~~\u001b[m\u001b[K\n",
      "\u001b[01m\u001b[K/home/student/.miniconda3/include/qt/QtWidgets/qstyleoption.h:\u001b[m\u001b[K In copy constructor ‘\u001b[01m\u001b[KQStyleOptionHeader::QStyleOptionHeader(const QStyleOptionHeader&)\u001b[m\u001b[K’:\n",
      "\u001b[01m\u001b[K/home/student/.miniconda3/include/qt/QtWidgets/qstyleoption.h:227:97:\u001b[m\u001b[K \u001b[01;35m\u001b[Kwarning: \u001b[m\u001b[Kimplicitly-declared ‘\u001b[01m\u001b[KQStyleOptionHeader& QStyleOptionHeader::operator=(const QStyleOptionHeader&)\u001b[m\u001b[K’ is deprecated [\u001b[01;35m\u001b[K-Wdeprecated-copy\u001b[m\u001b[K]\n",
      "  227 |     QStyleOptionHeader(const QStyleOptionHeader &other) : QStyleOption(Version, Type) { *this = \u001b[01;35m\u001b[Kother\u001b[m\u001b[K; }\n",
      "      |                                                                                                 \u001b[01;35m\u001b[K^~~~~\u001b[m\u001b[K\n",
      "\u001b[01m\u001b[K/home/student/.miniconda3/include/qt/QtWidgets/qstyleoption.h:227:5:\u001b[m\u001b[K \u001b[01;36m\u001b[Knote: \u001b[m\u001b[Kbecause ‘\u001b[01m\u001b[KQStyleOptionHeader\u001b[m\u001b[K’ has user-provided ‘\u001b[01m\u001b[KQStyleOptionHeader::QStyleOptionHeader(const QStyleOptionHeader&)\u001b[m\u001b[K’\n",
      "  227 |     \u001b[01;36m\u001b[KQStyleOptionHeader\u001b[m\u001b[K(const QStyleOptionHeader &other) : QStyleOption(Version, Type) { *this = other; }\n",
      "      |     \u001b[01;36m\u001b[K^~~~~~~~~~~~~~~~~~\u001b[m\u001b[K\n",
      "\u001b[01m\u001b[K/home/student/.miniconda3/include/qt/QtWidgets/qstyleoption.h:\u001b[m\u001b[K In copy constructor ‘\u001b[01m\u001b[KQStyleOptionButton::QStyleOptionButton(const QStyleOptionButton&)\u001b[m\u001b[K’:\n",
      "\u001b[01m\u001b[K/home/student/.miniconda3/include/qt/QtWidgets/qstyleoption.h:249:97:\u001b[m\u001b[K \u001b[01;35m\u001b[Kwarning: \u001b[m\u001b[Kimplicitly-declared ‘\u001b[01m\u001b[KQStyleOptionButton& QStyleOptionButton::operator=(const QStyleOptionButton&)\u001b[m\u001b[K’ is deprecated [\u001b[01;35m\u001b[K-Wdeprecated-copy\u001b[m\u001b[K]\n",
      "  249 |     QStyleOptionButton(const QStyleOptionButton &other) : QStyleOption(Version, Type) { *this = \u001b[01;35m\u001b[Kother\u001b[m\u001b[K; }\n",
      "      |                                                                                                 \u001b[01;35m\u001b[K^~~~~\u001b[m\u001b[K\n",
      "\u001b[01m\u001b[K/home/student/.miniconda3/include/qt/QtWidgets/qstyleoption.h:249:5:\u001b[m\u001b[K \u001b[01;36m\u001b[Knote: \u001b[m\u001b[Kbecause ‘\u001b[01m\u001b[KQStyleOptionButton\u001b[m\u001b[K’ has user-provided ‘\u001b[01m\u001b[KQStyleOptionButton::QStyleOptionButton(const QStyleOptionButton&)\u001b[m\u001b[K’\n",
      "  249 |     \u001b[01;36m\u001b[KQStyleOptionButton\u001b[m\u001b[K(const QStyleOptionButton &other) : QStyleOption(Version, Type) { *this = other; }\n",
      "      |     \u001b[01;36m\u001b[K^~~~~~~~~~~~~~~~~~\u001b[m\u001b[K\n",
      "\u001b[01m\u001b[K/home/student/.miniconda3/include/qt/QtWidgets/qstyleoption.h:\u001b[m\u001b[K In copy constructor ‘\u001b[01m\u001b[KQStyleOptionTab::QStyleOptionTab(const QStyleOptionTab&)\u001b[m\u001b[K’:\n",
      "\u001b[01m\u001b[K/home/student/.miniconda3/include/qt/QtWidgets/qstyleoption.h:286:91:\u001b[m\u001b[K \u001b[01;35m\u001b[Kwarning: \u001b[m\u001b[Kimplicitly-declared ‘\u001b[01m\u001b[KQStyleOptionTab& QStyleOptionTab::operator=(const QStyleOptionTab&)\u001b[m\u001b[K’ is deprecated [\u001b[01;35m\u001b[K-Wdeprecated-copy\u001b[m\u001b[K]\n",
      "  286 |     QStyleOptionTab(const QStyleOptionTab &other) : QStyleOption(Version, Type) { *this = \u001b[01;35m\u001b[Kother\u001b[m\u001b[K; }\n",
      "      |                                                                                           \u001b[01;35m\u001b[K^~~~~\u001b[m\u001b[K\n",
      "\u001b[01m\u001b[K/home/student/.miniconda3/include/qt/QtWidgets/qstyleoption.h:286:5:\u001b[m\u001b[K \u001b[01;36m\u001b[Knote: \u001b[m\u001b[Kbecause ‘\u001b[01m\u001b[KQStyleOptionTab\u001b[m\u001b[K’ has user-provided ‘\u001b[01m\u001b[KQStyleOptionTab::QStyleOptionTab(const QStyleOptionTab&)\u001b[m\u001b[K’\n",
      "  286 |     \u001b[01;36m\u001b[KQStyleOptionTab\u001b[m\u001b[K(const QStyleOptionTab &other) : QStyleOption(Version, Type) { *this = other; }\n",
      "      |     \u001b[01;36m\u001b[K^~~~~~~~~~~~~~~\u001b[m\u001b[K\n",
      "\u001b[01m\u001b[K/home/student/.miniconda3/include/qt/QtWidgets/qstyleoption.h:\u001b[m\u001b[K In copy constructor ‘\u001b[01m\u001b[KQStyleOptionToolBar::QStyleOptionToolBar(const QStyleOptionToolBar&)\u001b[m\u001b[K’:\n",
      "\u001b[01m\u001b[K/home/student/.miniconda3/include/qt/QtWidgets/qstyleoption.h:316:99:\u001b[m\u001b[K \u001b[01;35m\u001b[Kwarning: \u001b[m\u001b[Kimplicitly-declared ‘\u001b[01m\u001b[KQStyleOptionToolBar& QStyleOptionToolBar::operator=(const QStyleOptionToolBar&)\u001b[m\u001b[K’ is deprecated [\u001b[01;35m\u001b[K-Wdeprecated-copy\u001b[m\u001b[K]\n",
      "  316 |     QStyleOptionToolBar(const QStyleOptionToolBar &other) : QStyleOption(Version, Type) { *this = \u001b[01;35m\u001b[Kother\u001b[m\u001b[K; }\n",
      "      |                                                                                                   \u001b[01;35m\u001b[K^~~~~\u001b[m\u001b[K\n",
      "\u001b[01m\u001b[K/home/student/.miniconda3/include/qt/QtWidgets/qstyleoption.h:316:5:\u001b[m\u001b[K \u001b[01;36m\u001b[Knote: \u001b[m\u001b[Kbecause ‘\u001b[01m\u001b[KQStyleOptionToolBar\u001b[m\u001b[K’ has user-provided ‘\u001b[01m\u001b[KQStyleOptionToolBar::QStyleOptionToolBar(const QStyleOptionToolBar&)\u001b[m\u001b[K’\n",
      "  316 |     \u001b[01;36m\u001b[KQStyleOptionToolBar\u001b[m\u001b[K(const QStyleOptionToolBar &other) : QStyleOption(Version, Type) { *this = other; }\n",
      "      |     \u001b[01;36m\u001b[K^~~~~~~~~~~~~~~~~~~\u001b[m\u001b[K\n",
      "\u001b[01m\u001b[K/home/student/.miniconda3/include/qt/QtWidgets/qstyleoption.h:\u001b[m\u001b[K In copy constructor ‘\u001b[01m\u001b[KQStyleOptionProgressBar::QStyleOptionProgressBar(const QStyleOptionProgressBar&)\u001b[m\u001b[K’:\n",
      "\u001b[01m\u001b[K/home/student/.miniconda3/include/qt/QtWidgets/qstyleoption.h:343:107:\u001b[m\u001b[K \u001b[01;35m\u001b[Kwarning: \u001b[m\u001b[Kimplicitly-declared ‘\u001b[01m\u001b[KQStyleOptionProgressBar& QStyleOptionProgressBar::operator=(const QStyleOptionProgressBar&)\u001b[m\u001b[K’ is deprecated [\u001b[01;35m\u001b[K-Wdeprecated-copy\u001b[m\u001b[K]\n",
      "  343 |     QStyleOptionProgressBar(const QStyleOptionProgressBar &other) : QStyleOption(Version, Type) { *this = \u001b[01;35m\u001b[Kother\u001b[m\u001b[K; }\n",
      "      |                                                                                                           \u001b[01;35m\u001b[K^~~~~\u001b[m\u001b[K\n",
      "\u001b[01m\u001b[K/home/student/.miniconda3/include/qt/QtWidgets/qstyleoption.h:343:5:\u001b[m\u001b[K \u001b[01;36m\u001b[Knote: \u001b[m\u001b[Kbecause ‘\u001b[01m\u001b[KQStyleOptionProgressBar\u001b[m\u001b[K’ has user-provided ‘\u001b[01m\u001b[KQStyleOptionProgressBar::QStyleOptionProgressBar(const QStyleOptionProgressBar&)\u001b[m\u001b[K’\n",
      "  343 |     \u001b[01;36m\u001b[KQStyleOptionProgressBar\u001b[m\u001b[K(const QStyleOptionProgressBar &other) : QStyleOption(Version, Type) { *this = other; }\n",
      "      |     \u001b[01;36m\u001b[K^~~~~~~~~~~~~~~~~~~~~~~\u001b[m\u001b[K\n"
     ]
    },
    {
     "name": "stdout",
     "output_type": "stream",
     "text": [
      "\u001b[01m\u001b[K/home/student/.miniconda3/include/qt/QtWidgets/qstyleoption.h:\u001b[m\u001b[K In copy constructor ‘\u001b[01m\u001b[KQStyleOptionMenuItem::QStyleOptionMenuItem(const QStyleOptionMenuItem&)\u001b[m\u001b[K’:\n",
      "\u001b[01m\u001b[K/home/student/.miniconda3/include/qt/QtWidgets/qstyleoption.h:373:101:\u001b[m\u001b[K \u001b[01;35m\u001b[Kwarning: \u001b[m\u001b[Kimplicitly-declared ‘\u001b[01m\u001b[KQStyleOptionMenuItem& QStyleOptionMenuItem::operator=(const QStyleOptionMenuItem&)\u001b[m\u001b[K’ is deprecated [\u001b[01;35m\u001b[K-Wdeprecated-copy\u001b[m\u001b[K]\n",
      "  373 |     QStyleOptionMenuItem(const QStyleOptionMenuItem &other) : QStyleOption(Version, Type) { *this = \u001b[01;35m\u001b[Kother\u001b[m\u001b[K; }\n",
      "      |                                                                                                     \u001b[01;35m\u001b[K^~~~~\u001b[m\u001b[K\n",
      "\u001b[01m\u001b[K/home/student/.miniconda3/include/qt/QtWidgets/qstyleoption.h:373:5:\u001b[m\u001b[K \u001b[01;36m\u001b[Knote: \u001b[m\u001b[Kbecause ‘\u001b[01m\u001b[KQStyleOptionMenuItem\u001b[m\u001b[K’ has user-provided ‘\u001b[01m\u001b[KQStyleOptionMenuItem::QStyleOptionMenuItem(const QStyleOptionMenuItem&)\u001b[m\u001b[K’\n",
      "  373 |     \u001b[01;36m\u001b[KQStyleOptionMenuItem\u001b[m\u001b[K(const QStyleOptionMenuItem &other) : QStyleOption(Version, Type) { *this = other; }\n",
      "      |     \u001b[01;36m\u001b[K^~~~~~~~~~~~~~~~~~~~\u001b[m\u001b[K\n",
      "\u001b[01m\u001b[K/home/student/.miniconda3/include/qt/QtWidgets/qstyleoption.h:\u001b[m\u001b[K In copy constructor ‘\u001b[01m\u001b[KQStyleOptionDockWidget::QStyleOptionDockWidget(const QStyleOptionDockWidget&)\u001b[m\u001b[K’:\n",
      "\u001b[01m\u001b[K/home/student/.miniconda3/include/qt/QtWidgets/qstyleoption.h:392:105:\u001b[m\u001b[K \u001b[01;35m\u001b[Kwarning: \u001b[m\u001b[Kimplicitly-declared ‘\u001b[01m\u001b[KQStyleOptionDockWidget& QStyleOptionDockWidget::operator=(const QStyleOptionDockWidget&)\u001b[m\u001b[K’ is deprecated [\u001b[01;35m\u001b[K-Wdeprecated-copy\u001b[m\u001b[K]\n",
      "  392 |     QStyleOptionDockWidget(const QStyleOptionDockWidget &other) : QStyleOption(Version, Type) { *this = \u001b[01;35m\u001b[Kother\u001b[m\u001b[K; }\n",
      "      |                                                                                                         \u001b[01;35m\u001b[K^~~~~\u001b[m\u001b[K\n",
      "\u001b[01m\u001b[K/home/student/.miniconda3/include/qt/QtWidgets/qstyleoption.h:392:5:\u001b[m\u001b[K \u001b[01;36m\u001b[Knote: \u001b[m\u001b[Kbecause ‘\u001b[01m\u001b[KQStyleOptionDockWidget\u001b[m\u001b[K’ has user-provided ‘\u001b[01m\u001b[KQStyleOptionDockWidget::QStyleOptionDockWidget(const QStyleOptionDockWidget&)\u001b[m\u001b[K’\n",
      "  392 |     \u001b[01;36m\u001b[KQStyleOptionDockWidget\u001b[m\u001b[K(const QStyleOptionDockWidget &other) : QStyleOption(Version, Type) { *this = other; }\n",
      "      |     \u001b[01;36m\u001b[K^~~~~~~~~~~~~~~~~~~~~~\u001b[m\u001b[K\n",
      "\u001b[01m\u001b[K/home/student/.miniconda3/include/qt/QtWidgets/qstyleoption.h:\u001b[m\u001b[K In copy constructor ‘\u001b[01m\u001b[KQStyleOptionViewItem::QStyleOptionViewItem(const QStyleOptionViewItem&)\u001b[m\u001b[K’:\n",
      "\u001b[01m\u001b[K/home/student/.miniconda3/include/qt/QtWidgets/qstyleoption.h:443:101:\u001b[m\u001b[K \u001b[01;35m\u001b[Kwarning: \u001b[m\u001b[Kimplicitly-declared ‘\u001b[01m\u001b[KQStyleOptionViewItem& QStyleOptionViewItem::operator=(const QStyleOptionViewItem&)\u001b[m\u001b[K’ is deprecated [\u001b[01;35m\u001b[K-Wdeprecated-copy\u001b[m\u001b[K]\n",
      "  443 |     QStyleOptionViewItem(const QStyleOptionViewItem &other) : QStyleOption(Version, Type) { *this = \u001b[01;35m\u001b[Kother\u001b[m\u001b[K; }\n",
      "      |                                                                                                     \u001b[01;35m\u001b[K^~~~~\u001b[m\u001b[K\n",
      "\u001b[01m\u001b[K/home/student/.miniconda3/include/qt/QtWidgets/qstyleoption.h:443:5:\u001b[m\u001b[K \u001b[01;36m\u001b[Knote: \u001b[m\u001b[Kbecause ‘\u001b[01m\u001b[KQStyleOptionViewItem\u001b[m\u001b[K’ has user-provided ‘\u001b[01m\u001b[KQStyleOptionViewItem::QStyleOptionViewItem(const QStyleOptionViewItem&)\u001b[m\u001b[K’\n",
      "  443 |     \u001b[01;36m\u001b[KQStyleOptionViewItem\u001b[m\u001b[K(const QStyleOptionViewItem &other) : QStyleOption(Version, Type) { *this = other; }\n",
      "      |     \u001b[01;36m\u001b[K^~~~~~~~~~~~~~~~~~~~\u001b[m\u001b[K\n",
      "\u001b[01m\u001b[K/home/student/.miniconda3/include/qt/QtWidgets/qstyleoption.h:\u001b[m\u001b[K In copy constructor ‘\u001b[01m\u001b[KQStyleOptionToolBox::QStyleOptionToolBox(const QStyleOptionToolBox&)\u001b[m\u001b[K’:\n",
      "\u001b[01m\u001b[K/home/student/.miniconda3/include/qt/QtWidgets/qstyleoption.h:473:99:\u001b[m\u001b[K \u001b[01;35m\u001b[Kwarning: \u001b[m\u001b[Kimplicitly-declared ‘\u001b[01m\u001b[KQStyleOptionToolBox& QStyleOptionToolBox::operator=(const QStyleOptionToolBox&)\u001b[m\u001b[K’ is deprecated [\u001b[01;35m\u001b[K-Wdeprecated-copy\u001b[m\u001b[K]\n",
      "  473 |     QStyleOptionToolBox(const QStyleOptionToolBox &other) : QStyleOption(Version, Type) { *this = \u001b[01;35m\u001b[Kother\u001b[m\u001b[K; }\n",
      "      |                                                                                                   \u001b[01;35m\u001b[K^~~~~\u001b[m\u001b[K\n",
      "\u001b[01m\u001b[K/home/student/.miniconda3/include/qt/QtWidgets/qstyleoption.h:473:5:\u001b[m\u001b[K \u001b[01;36m\u001b[Knote: \u001b[m\u001b[Kbecause ‘\u001b[01m\u001b[KQStyleOptionToolBox\u001b[m\u001b[K’ has user-provided ‘\u001b[01m\u001b[KQStyleOptionToolBox::QStyleOptionToolBox(const QStyleOptionToolBox&)\u001b[m\u001b[K’\n",
      "  473 |     \u001b[01;36m\u001b[KQStyleOptionToolBox\u001b[m\u001b[K(const QStyleOptionToolBox &other) : QStyleOption(Version, Type) { *this = other; }\n",
      "      |     \u001b[01;36m\u001b[K^~~~~~~~~~~~~~~~~~~\u001b[m\u001b[K\n",
      "\u001b[01m\u001b[K/home/student/.miniconda3/include/qt/QtWidgets/qstyleoption.h:\u001b[m\u001b[K In copy constructor ‘\u001b[01m\u001b[KQStyleOptionRubberBand::QStyleOptionRubberBand(const QStyleOptionRubberBand&)\u001b[m\u001b[K’:\n",
      "\u001b[01m\u001b[K/home/student/.miniconda3/include/qt/QtWidgets/qstyleoption.h:492:105:\u001b[m\u001b[K \u001b[01;35m\u001b[Kwarning: \u001b[m\u001b[Kimplicitly-declared ‘\u001b[01m\u001b[KQStyleOptionRubberBand& QStyleOptionRubberBand::operator=(const QStyleOptionRubberBand&)\u001b[m\u001b[K’ is deprecated [\u001b[01;35m\u001b[K-Wdeprecated-copy\u001b[m\u001b[K]\n",
      "  492 |     QStyleOptionRubberBand(const QStyleOptionRubberBand &other) : QStyleOption(Version, Type) { *this = \u001b[01;35m\u001b[Kother\u001b[m\u001b[K; }\n",
      "      |                                                                                                         \u001b[01;35m\u001b[K^~~~~\u001b[m\u001b[K\n",
      "\u001b[01m\u001b[K/home/student/.miniconda3/include/qt/QtWidgets/qstyleoption.h:492:5:\u001b[m\u001b[K \u001b[01;36m\u001b[Knote: \u001b[m\u001b[Kbecause ‘\u001b[01m\u001b[KQStyleOptionRubberBand\u001b[m\u001b[K’ has user-provided ‘\u001b[01m\u001b[KQStyleOptionRubberBand::QStyleOptionRubberBand(const QStyleOptionRubberBand&)\u001b[m\u001b[K’\n",
      "  492 |     \u001b[01;36m\u001b[KQStyleOptionRubberBand\u001b[m\u001b[K(const QStyleOptionRubberBand &other) : QStyleOption(Version, Type) { *this = other; }\n",
      "      |     \u001b[01;36m\u001b[K^~~~~~~~~~~~~~~~~~~~~~\u001b[m\u001b[K\n",
      "\u001b[01m\u001b[K/home/student/.miniconda3/include/qt/QtWidgets/qstyleoption.h:\u001b[m\u001b[K In copy constructor ‘\u001b[01m\u001b[KQStyleOptionComplex::QStyleOptionComplex(const QStyleOptionComplex&)\u001b[m\u001b[K’:\n",
      "\u001b[01m\u001b[K/home/student/.miniconda3/include/qt/QtWidgets/qstyleoption.h:510:99:\u001b[m\u001b[K \u001b[01;35m\u001b[Kwarning: \u001b[m\u001b[Kimplicitly-declared ‘\u001b[01m\u001b[KQStyleOptionComplex& QStyleOptionComplex::operator=(const QStyleOptionComplex&)\u001b[m\u001b[K’ is deprecated [\u001b[01;35m\u001b[K-Wdeprecated-copy\u001b[m\u001b[K]\n",
      "  510 |     QStyleOptionComplex(const QStyleOptionComplex &other) : QStyleOption(Version, Type) { *this = \u001b[01;35m\u001b[Kother\u001b[m\u001b[K; }\n",
      "      |                                                                                                   \u001b[01;35m\u001b[K^~~~~\u001b[m\u001b[K\n",
      "\u001b[01m\u001b[K/home/student/.miniconda3/include/qt/QtWidgets/qstyleoption.h:510:5:\u001b[m\u001b[K \u001b[01;36m\u001b[Knote: \u001b[m\u001b[Kbecause ‘\u001b[01m\u001b[KQStyleOptionComplex\u001b[m\u001b[K’ has user-provided ‘\u001b[01m\u001b[KQStyleOptionComplex::QStyleOptionComplex(const QStyleOptionComplex&)\u001b[m\u001b[K’\n",
      "  510 |     \u001b[01;36m\u001b[KQStyleOptionComplex\u001b[m\u001b[K(const QStyleOptionComplex &other) : QStyleOption(Version, Type) { *this = other; }\n",
      "      |     \u001b[01;36m\u001b[K^~~~~~~~~~~~~~~~~~~\u001b[m\u001b[K\n",
      "\u001b[01m\u001b[K/home/student/.miniconda3/include/qt/QtWidgets/qstyleoption.h:\u001b[m\u001b[K In copy constructor ‘\u001b[01m\u001b[KQStyleOptionSlider::QStyleOptionSlider(const QStyleOptionSlider&)\u001b[m\u001b[K’:\n",
      "\u001b[01m\u001b[K/home/student/.miniconda3/include/qt/QtWidgets/qstyleoption.h:534:104:\u001b[m\u001b[K \u001b[01;35m\u001b[Kwarning: \u001b[m\u001b[Kimplicitly-declared ‘\u001b[01m\u001b[KQStyleOptionSlider& QStyleOptionSlider::operator=(const QStyleOptionSlider&)\u001b[m\u001b[K’ is deprecated [\u001b[01;35m\u001b[K-Wdeprecated-copy\u001b[m\u001b[K]\n",
      "  534 |     QStyleOptionSlider(const QStyleOptionSlider &other) : QStyleOptionComplex(Version, Type) { *this = \u001b[01;35m\u001b[Kother\u001b[m\u001b[K; }\n",
      "      |                                                                                                        \u001b[01;35m\u001b[K^~~~~\u001b[m\u001b[K\n",
      "\u001b[01m\u001b[K/home/student/.miniconda3/include/qt/QtWidgets/qstyleoption.h:534:5:\u001b[m\u001b[K \u001b[01;36m\u001b[Knote: \u001b[m\u001b[Kbecause ‘\u001b[01m\u001b[KQStyleOptionSlider\u001b[m\u001b[K’ has user-provided ‘\u001b[01m\u001b[KQStyleOptionSlider::QStyleOptionSlider(const QStyleOptionSlider&)\u001b[m\u001b[K’\n",
      "  534 |     \u001b[01;36m\u001b[KQStyleOptionSlider\u001b[m\u001b[K(const QStyleOptionSlider &other) : QStyleOptionComplex(Version, Type) { *this = other; }\n",
      "      |     \u001b[01;36m\u001b[K^~~~~~~~~~~~~~~~~~\u001b[m\u001b[K\n",
      "\u001b[01m\u001b[K/home/student/.miniconda3/include/qt/QtWidgets/qstyleoption.h:\u001b[m\u001b[K In member function ‘\u001b[01m\u001b[KQStyleOptionSlider& QStyleOptionSlider::operator=(const QStyleOptionSlider&)\u001b[m\u001b[K’:\n",
      "\u001b[01m\u001b[K/home/student/.miniconda3/include/qt/QtWidgets/qstyleoption.h:514:24:\u001b[m\u001b[K \u001b[01;35m\u001b[Kwarning: \u001b[m\u001b[Kimplicitly-declared ‘\u001b[01m\u001b[KQStyleOptionComplex& QStyleOptionComplex::operator=(const QStyleOptionComplex&)\u001b[m\u001b[K’ is deprecated [\u001b[01;35m\u001b[K-Wdeprecated-copy\u001b[m\u001b[K]\n",
      "  514 | class Q_WIDGETS_EXPORT \u001b[01;35m\u001b[KQStyleOptionSlider\u001b[m\u001b[K : public QStyleOptionComplex\n",
      "      |                        \u001b[01;35m\u001b[K^~~~~~~~~~~~~~~~~~\u001b[m\u001b[K\n",
      "\u001b[01m\u001b[K/home/student/.miniconda3/include/qt/QtWidgets/qstyleoption.h:510:5:\u001b[m\u001b[K \u001b[01;36m\u001b[Knote: \u001b[m\u001b[Kbecause ‘\u001b[01m\u001b[KQStyleOptionComplex\u001b[m\u001b[K’ has user-provided ‘\u001b[01m\u001b[KQStyleOptionComplex::QStyleOptionComplex(const QStyleOptionComplex&)\u001b[m\u001b[K’\n",
      "  510 |     \u001b[01;36m\u001b[KQStyleOptionComplex\u001b[m\u001b[K(const QStyleOptionComplex &other) : QStyleOption(Version, Type) { *this = other; }\n",
      "      |     \u001b[01;36m\u001b[K^~~~~~~~~~~~~~~~~~~\u001b[m\u001b[K\n",
      "\u001b[01m\u001b[K/home/student/.miniconda3/include/qt/QtWidgets/qstyleoption.h:\u001b[m\u001b[K In copy constructor ‘\u001b[01m\u001b[KQStyleOptionSlider::QStyleOptionSlider(const QStyleOptionSlider&)\u001b[m\u001b[K’:\n",
      "\u001b[01m\u001b[K/home/student/.miniconda3/include/qt/QtWidgets/qstyleoption.h:534:104:\u001b[m\u001b[K \u001b[01;36m\u001b[Knote: \u001b[m\u001b[Ksynthesized method ‘\u001b[01m\u001b[KQStyleOptionSlider& QStyleOptionSlider::operator=(const QStyleOptionSlider&)\u001b[m\u001b[K’ first required here\n",
      "  534 |     QStyleOptionSlider(const QStyleOptionSlider &other) : QStyleOptionComplex(Version, Type) { *this = \u001b[01;36m\u001b[Kother\u001b[m\u001b[K; }\n",
      "      |                                                                                                        \u001b[01;36m\u001b[K^~~~~\u001b[m\u001b[K\n",
      "\u001b[01m\u001b[K/home/student/.miniconda3/include/qt/QtWidgets/qstyleoption.h:\u001b[m\u001b[K In copy constructor ‘\u001b[01m\u001b[KQStyleOptionSpinBox::QStyleOptionSpinBox(const QStyleOptionSpinBox&)\u001b[m\u001b[K’:\n",
      "\u001b[01m\u001b[K/home/student/.miniconda3/include/qt/QtWidgets/qstyleoption.h:553:106:\u001b[m\u001b[K \u001b[01;35m\u001b[Kwarning: \u001b[m\u001b[Kimplicitly-declared ‘\u001b[01m\u001b[KQStyleOptionSpinBox& QStyleOptionSpinBox::operator=(const QStyleOptionSpinBox&)\u001b[m\u001b[K’ is deprecated [\u001b[01;35m\u001b[K-Wdeprecated-copy\u001b[m\u001b[K]\n",
      "  553 |     QStyleOptionSpinBox(const QStyleOptionSpinBox &other) : QStyleOptionComplex(Version, Type) { *this = \u001b[01;35m\u001b[Kother\u001b[m\u001b[K; }\n",
      "      |                                                                                                          \u001b[01;35m\u001b[K^~~~~\u001b[m\u001b[K\n",
      "\u001b[01m\u001b[K/home/student/.miniconda3/include/qt/QtWidgets/qstyleoption.h:553:5:\u001b[m\u001b[K \u001b[01;36m\u001b[Knote: \u001b[m\u001b[Kbecause ‘\u001b[01m\u001b[KQStyleOptionSpinBox\u001b[m\u001b[K’ has user-provided ‘\u001b[01m\u001b[KQStyleOptionSpinBox::QStyleOptionSpinBox(const QStyleOptionSpinBox&)\u001b[m\u001b[K’\n",
      "  553 |     \u001b[01;36m\u001b[KQStyleOptionSpinBox\u001b[m\u001b[K(const QStyleOptionSpinBox &other) : QStyleOptionComplex(Version, Type) { *this = other; }\n",
      "      |     \u001b[01;36m\u001b[K^~~~~~~~~~~~~~~~~~~\u001b[m\u001b[K\n",
      "\u001b[01m\u001b[K/home/student/.miniconda3/include/qt/QtWidgets/qstyleoption.h:\u001b[m\u001b[K In member function ‘\u001b[01m\u001b[KQStyleOptionSpinBox& QStyleOptionSpinBox::operator=(const QStyleOptionSpinBox&)\u001b[m\u001b[K’:\n",
      "\u001b[01m\u001b[K/home/student/.miniconda3/include/qt/QtWidgets/qstyleoption.h:542:24:\u001b[m\u001b[K \u001b[01;35m\u001b[Kwarning: \u001b[m\u001b[Kimplicitly-declared ‘\u001b[01m\u001b[KQStyleOptionComplex& QStyleOptionComplex::operator=(const QStyleOptionComplex&)\u001b[m\u001b[K’ is deprecated [\u001b[01;35m\u001b[K-Wdeprecated-copy\u001b[m\u001b[K]\n",
      "  542 | class Q_WIDGETS_EXPORT \u001b[01;35m\u001b[KQStyleOptionSpinBox\u001b[m\u001b[K : public QStyleOptionComplex\n",
      "      |                        \u001b[01;35m\u001b[K^~~~~~~~~~~~~~~~~~~\u001b[m\u001b[K\n",
      "\u001b[01m\u001b[K/home/student/.miniconda3/include/qt/QtWidgets/qstyleoption.h:510:5:\u001b[m\u001b[K \u001b[01;36m\u001b[Knote: \u001b[m\u001b[Kbecause ‘\u001b[01m\u001b[KQStyleOptionComplex\u001b[m\u001b[K’ has user-provided ‘\u001b[01m\u001b[KQStyleOptionComplex::QStyleOptionComplex(const QStyleOptionComplex&)\u001b[m\u001b[K’\n",
      "  510 |     \u001b[01;36m\u001b[KQStyleOptionComplex\u001b[m\u001b[K(const QStyleOptionComplex &other) : QStyleOption(Version, Type) { *this = other; }\n",
      "      |     \u001b[01;36m\u001b[K^~~~~~~~~~~~~~~~~~~\u001b[m\u001b[K\n",
      "\u001b[01m\u001b[K/home/student/.miniconda3/include/qt/QtWidgets/qstyleoption.h:\u001b[m\u001b[K In copy constructor ‘\u001b[01m\u001b[KQStyleOptionSpinBox::QStyleOptionSpinBox(const QStyleOptionSpinBox&)\u001b[m\u001b[K’:\n",
      "\u001b[01m\u001b[K/home/student/.miniconda3/include/qt/QtWidgets/qstyleoption.h:553:106:\u001b[m\u001b[K \u001b[01;36m\u001b[Knote: \u001b[m\u001b[Ksynthesized method ‘\u001b[01m\u001b[KQStyleOptionSpinBox& QStyleOptionSpinBox::operator=(const QStyleOptionSpinBox&)\u001b[m\u001b[K’ first required here\n",
      "  553 |     QStyleOptionSpinBox(const QStyleOptionSpinBox &other) : QStyleOptionComplex(Version, Type) { *this = \u001b[01;36m\u001b[Kother\u001b[m\u001b[K; }\n",
      "      |                                                                                                          \u001b[01;36m\u001b[K^~~~~\u001b[m\u001b[K\n",
      "\u001b[01m\u001b[K/home/student/.miniconda3/include/qt/QtWidgets/qstyleoption.h:\u001b[m\u001b[K In copy constructor ‘\u001b[01m\u001b[KQStyleOptionToolButton::QStyleOptionToolButton(const QStyleOptionToolButton&)\u001b[m\u001b[K’:\n",
      "\u001b[01m\u001b[K/home/student/.miniconda3/include/qt/QtWidgets/qstyleoption.h:580:112:\u001b[m\u001b[K \u001b[01;35m\u001b[Kwarning: \u001b[m\u001b[Kimplicitly-declared ‘\u001b[01m\u001b[KQStyleOptionToolButton& QStyleOptionToolButton::operator=(const QStyleOptionToolButton&)\u001b[m\u001b[K’ is deprecated [\u001b[01;35m\u001b[K-Wdeprecated-copy\u001b[m\u001b[K]\n",
      "  580 |     QStyleOptionToolButton(const QStyleOptionToolButton &other) : QStyleOptionComplex(Version, Type) { *this = \u001b[01;35m\u001b[Kother\u001b[m\u001b[K; }\n",
      "      |                                                                                                                \u001b[01;35m\u001b[K^~~~~\u001b[m\u001b[K\n",
      "\u001b[01m\u001b[K/home/student/.miniconda3/include/qt/QtWidgets/qstyleoption.h:580:5:\u001b[m\u001b[K \u001b[01;36m\u001b[Knote: \u001b[m\u001b[Kbecause ‘\u001b[01m\u001b[KQStyleOptionToolButton\u001b[m\u001b[K’ has user-provided ‘\u001b[01m\u001b[KQStyleOptionToolButton::QStyleOptionToolButton(const QStyleOptionToolButton&)\u001b[m\u001b[K’\n",
      "  580 |     \u001b[01;36m\u001b[KQStyleOptionToolButton\u001b[m\u001b[K(const QStyleOptionToolButton &other) : QStyleOptionComplex(Version, Type) { *this = other; }\n",
      "      |     \u001b[01;36m\u001b[K^~~~~~~~~~~~~~~~~~~~~~\u001b[m\u001b[K\n"
     ]
    },
    {
     "name": "stdout",
     "output_type": "stream",
     "text": [
      "\u001b[01m\u001b[K/home/student/.miniconda3/include/qt/QtWidgets/qstyleoption.h:\u001b[m\u001b[K In member function ‘\u001b[01m\u001b[KQStyleOptionToolButton& QStyleOptionToolButton::operator=(const QStyleOptionToolButton&)\u001b[m\u001b[K’:\r\n",
      "\u001b[01m\u001b[K/home/student/.miniconda3/include/qt/QtWidgets/qstyleoption.h:560:24:\u001b[m\u001b[K \u001b[01;35m\u001b[Kwarning: \u001b[m\u001b[Kimplicitly-declared ‘\u001b[01m\u001b[KQStyleOptionComplex& QStyleOptionComplex::operator=(const QStyleOptionComplex&)\u001b[m\u001b[K’ is deprecated [\u001b[01;35m\u001b[K-Wdeprecated-copy\u001b[m\u001b[K]\r\n",
      "  560 | class Q_WIDGETS_EXPORT \u001b[01;35m\u001b[KQStyleOptionToolButton\u001b[m\u001b[K : public QStyleOptionComplex\r\n",
      "      |                        \u001b[01;35m\u001b[K^~~~~~~~~~~~~~~~~~~~~~\u001b[m\u001b[K\r\n",
      "\u001b[01m\u001b[K/home/student/.miniconda3/include/qt/QtWidgets/qstyleoption.h:510:5:\u001b[m\u001b[K \u001b[01;36m\u001b[Knote: \u001b[m\u001b[Kbecause ‘\u001b[01m\u001b[KQStyleOptionComplex\u001b[m\u001b[K’ has user-provided ‘\u001b[01m\u001b[KQStyleOptionComplex::QStyleOptionComplex(const QStyleOptionComplex&)\u001b[m\u001b[K’\r\n",
      "  510 |     \u001b[01;36m\u001b[KQStyleOptionComplex\u001b[m\u001b[K(const QStyleOptionComplex &other) : QStyleOption(Version, Type) { *this = other; }\r\n",
      "      |     \u001b[01;36m\u001b[K^~~~~~~~~~~~~~~~~~~\u001b[m\u001b[K\r\n",
      "\u001b[01m\u001b[K/home/student/.miniconda3/include/qt/QtWidgets/qstyleoption.h:\u001b[m\u001b[K In copy constructor ‘\u001b[01m\u001b[KQStyleOptionToolButton::QStyleOptionToolButton(const QStyleOptionToolButton&)\u001b[m\u001b[K’:\r\n",
      "\u001b[01m\u001b[K/home/student/.miniconda3/include/qt/QtWidgets/qstyleoption.h:580:112:\u001b[m\u001b[K \u001b[01;36m\u001b[Knote: \u001b[m\u001b[Ksynthesized method ‘\u001b[01m\u001b[KQStyleOptionToolButton& QStyleOptionToolButton::operator=(const QStyleOptionToolButton&)\u001b[m\u001b[K’ first required here\r\n",
      "  580 |     QStyleOptionToolButton(const QStyleOptionToolButton &other) : QStyleOptionComplex(Version, Type) { *this = \u001b[01;36m\u001b[Kother\u001b[m\u001b[K; }\r\n",
      "      |                                                                                                                \u001b[01;36m\u001b[K^~~~~\u001b[m\u001b[K\r\n",
      "\u001b[01m\u001b[K/home/student/.miniconda3/include/qt/QtWidgets/qstyleoption.h:\u001b[m\u001b[K In copy constructor ‘\u001b[01m\u001b[KQStyleOptionComboBox::QStyleOptionComboBox(const QStyleOptionComboBox&)\u001b[m\u001b[K’:\r\n",
      "\u001b[01m\u001b[K/home/student/.miniconda3/include/qt/QtWidgets/qstyleoption.h:602:108:\u001b[m\u001b[K \u001b[01;35m\u001b[Kwarning: \u001b[m\u001b[Kimplicitly-declared ‘\u001b[01m\u001b[KQStyleOptionComboBox& QStyleOptionComboBox::operator=(const QStyleOptionComboBox&)\u001b[m\u001b[K’ is deprecated [\u001b[01;35m\u001b[K-Wdeprecated-copy\u001b[m\u001b[K]\r\n",
      "  602 |     QStyleOptionComboBox(const QStyleOptionComboBox &other) : QStyleOptionComplex(Version, Type) { *this = \u001b[01;35m\u001b[Kother\u001b[m\u001b[K; }\r\n",
      "      |                                                                                                            \u001b[01;35m\u001b[K^~~~~\u001b[m\u001b[K\r\n",
      "\u001b[01m\u001b[K/home/student/.miniconda3/include/qt/QtWidgets/qstyleoption.h:602:5:\u001b[m\u001b[K \u001b[01;36m\u001b[Knote: \u001b[m\u001b[Kbecause ‘\u001b[01m\u001b[KQStyleOptionComboBox\u001b[m\u001b[K’ has user-provided ‘\u001b[01m\u001b[KQStyleOptionComboBox::QStyleOptionComboBox(const QStyleOptionComboBox&)\u001b[m\u001b[K’\r\n",
      "  602 |     \u001b[01;36m\u001b[KQStyleOptionComboBox\u001b[m\u001b[K(const QStyleOptionComboBox &other) : QStyleOptionComplex(Version, Type) { *this = other; }\r\n",
      "      |     \u001b[01;36m\u001b[K^~~~~~~~~~~~~~~~~~~~\u001b[m\u001b[K\r\n",
      "\u001b[01m\u001b[K/home/student/.miniconda3/include/qt/QtWidgets/qstyleoption.h:\u001b[m\u001b[K In member function ‘\u001b[01m\u001b[KQStyleOptionComboBox& QStyleOptionComboBox::operator=(const QStyleOptionComboBox&)\u001b[m\u001b[K’:\r\n",
      "\u001b[01m\u001b[K/home/student/.miniconda3/include/qt/QtWidgets/qstyleoption.h:588:24:\u001b[m\u001b[K \u001b[01;35m\u001b[Kwarning: \u001b[m\u001b[Kimplicitly-declared ‘\u001b[01m\u001b[KQStyleOptionComplex& QStyleOptionComplex::operator=(const QStyleOptionComplex&)\u001b[m\u001b[K’ is deprecated [\u001b[01;35m\u001b[K-Wdeprecated-copy\u001b[m\u001b[K]\r\n",
      "  588 | class Q_WIDGETS_EXPORT \u001b[01;35m\u001b[KQStyleOptionComboBox\u001b[m\u001b[K : public QStyleOptionComplex\r\n",
      "      |                        \u001b[01;35m\u001b[K^~~~~~~~~~~~~~~~~~~~\u001b[m\u001b[K\r\n",
      "\u001b[01m\u001b[K/home/student/.miniconda3/include/qt/QtWidgets/qstyleoption.h:510:5:\u001b[m\u001b[K \u001b[01;36m\u001b[Knote: \u001b[m\u001b[Kbecause ‘\u001b[01m\u001b[KQStyleOptionComplex\u001b[m\u001b[K’ has user-provided ‘\u001b[01m\u001b[KQStyleOptionComplex::QStyleOptionComplex(const QStyleOptionComplex&)\u001b[m\u001b[K’\r\n",
      "  510 |     \u001b[01;36m\u001b[KQStyleOptionComplex\u001b[m\u001b[K(const QStyleOptionComplex &other) : QStyleOption(Version, Type) { *this = other; }\r\n",
      "      |     \u001b[01;36m\u001b[K^~~~~~~~~~~~~~~~~~~\u001b[m\u001b[K\r\n",
      "\u001b[01m\u001b[K/home/student/.miniconda3/include/qt/QtWidgets/qstyleoption.h:\u001b[m\u001b[K In copy constructor ‘\u001b[01m\u001b[KQStyleOptionComboBox::QStyleOptionComboBox(const QStyleOptionComboBox&)\u001b[m\u001b[K’:\r\n",
      "\u001b[01m\u001b[K/home/student/.miniconda3/include/qt/QtWidgets/qstyleoption.h:602:108:\u001b[m\u001b[K \u001b[01;36m\u001b[Knote: \u001b[m\u001b[Ksynthesized method ‘\u001b[01m\u001b[KQStyleOptionComboBox& QStyleOptionComboBox::operator=(const QStyleOptionComboBox&)\u001b[m\u001b[K’ first required here\r\n",
      "  602 |     QStyleOptionComboBox(const QStyleOptionComboBox &other) : QStyleOptionComplex(Version, Type) { *this = \u001b[01;36m\u001b[Kother\u001b[m\u001b[K; }\r\n",
      "      |                                                                                                            \u001b[01;36m\u001b[K^~~~~\u001b[m\u001b[K\r\n",
      "\u001b[01m\u001b[K/home/student/.miniconda3/include/qt/QtWidgets/qstyleoption.h:\u001b[m\u001b[K In copy constructor ‘\u001b[01m\u001b[KQStyleOptionTitleBar::QStyleOptionTitleBar(const QStyleOptionTitleBar&)\u001b[m\u001b[K’:\r\n",
      "\u001b[01m\u001b[K/home/student/.miniconda3/include/qt/QtWidgets/qstyleoption.h:620:108:\u001b[m\u001b[K \u001b[01;35m\u001b[Kwarning: \u001b[m\u001b[Kimplicitly-declared ‘\u001b[01m\u001b[KQStyleOptionTitleBar& QStyleOptionTitleBar::operator=(const QStyleOptionTitleBar&)\u001b[m\u001b[K’ is deprecated [\u001b[01;35m\u001b[K-Wdeprecated-copy\u001b[m\u001b[K]\r\n",
      "  620 |     QStyleOptionTitleBar(const QStyleOptionTitleBar &other) : QStyleOptionComplex(Version, Type) { *this = \u001b[01;35m\u001b[Kother\u001b[m\u001b[K; }\r\n",
      "      |                                                                                                            \u001b[01;35m\u001b[K^~~~~\u001b[m\u001b[K\r\n",
      "\u001b[01m\u001b[K/home/student/.miniconda3/include/qt/QtWidgets/qstyleoption.h:620:5:\u001b[m\u001b[K \u001b[01;36m\u001b[Knote: \u001b[m\u001b[Kbecause ‘\u001b[01m\u001b[KQStyleOptionTitleBar\u001b[m\u001b[K’ has user-provided ‘\u001b[01m\u001b[KQStyleOptionTitleBar::QStyleOptionTitleBar(const QStyleOptionTitleBar&)\u001b[m\u001b[K’\r\n",
      "  620 |     \u001b[01;36m\u001b[KQStyleOptionTitleBar\u001b[m\u001b[K(const QStyleOptionTitleBar &other) : QStyleOptionComplex(Version, Type) { *this = other; }\r\n",
      "      |     \u001b[01;36m\u001b[K^~~~~~~~~~~~~~~~~~~~\u001b[m\u001b[K\r\n",
      "\u001b[01m\u001b[K/home/student/.miniconda3/include/qt/QtWidgets/qstyleoption.h:\u001b[m\u001b[K In member function ‘\u001b[01m\u001b[KQStyleOptionTitleBar& QStyleOptionTitleBar::operator=(const QStyleOptionTitleBar&)\u001b[m\u001b[K’:\r\n",
      "\u001b[01m\u001b[K/home/student/.miniconda3/include/qt/QtWidgets/qstyleoption.h:608:24:\u001b[m\u001b[K \u001b[01;35m\u001b[Kwarning: \u001b[m\u001b[Kimplicitly-declared ‘\u001b[01m\u001b[KQStyleOptionComplex& QStyleOptionComplex::operator=(const QStyleOptionComplex&)\u001b[m\u001b[K’ is deprecated [\u001b[01;35m\u001b[K-Wdeprecated-copy\u001b[m\u001b[K]\r\n",
      "  608 | class Q_WIDGETS_EXPORT \u001b[01;35m\u001b[KQStyleOptionTitleBar\u001b[m\u001b[K : public QStyleOptionComplex\r\n",
      "      |                        \u001b[01;35m\u001b[K^~~~~~~~~~~~~~~~~~~~\u001b[m\u001b[K\r\n",
      "\u001b[01m\u001b[K/home/student/.miniconda3/include/qt/QtWidgets/qstyleoption.h:510:5:\u001b[m\u001b[K \u001b[01;36m\u001b[Knote: \u001b[m\u001b[Kbecause ‘\u001b[01m\u001b[KQStyleOptionComplex\u001b[m\u001b[K’ has user-provided ‘\u001b[01m\u001b[KQStyleOptionComplex::QStyleOptionComplex(const QStyleOptionComplex&)\u001b[m\u001b[K’\r\n",
      "  510 |     \u001b[01;36m\u001b[KQStyleOptionComplex\u001b[m\u001b[K(const QStyleOptionComplex &other) : QStyleOption(Version, Type) { *this = other; }\r\n",
      "      |     \u001b[01;36m\u001b[K^~~~~~~~~~~~~~~~~~~\u001b[m\u001b[K\r\n",
      "\u001b[01m\u001b[K/home/student/.miniconda3/include/qt/QtWidgets/qstyleoption.h:\u001b[m\u001b[K In copy constructor ‘\u001b[01m\u001b[KQStyleOptionTitleBar::QStyleOptionTitleBar(const QStyleOptionTitleBar&)\u001b[m\u001b[K’:\r\n",
      "\u001b[01m\u001b[K/home/student/.miniconda3/include/qt/QtWidgets/qstyleoption.h:620:108:\u001b[m\u001b[K \u001b[01;36m\u001b[Knote: \u001b[m\u001b[Ksynthesized method ‘\u001b[01m\u001b[KQStyleOptionTitleBar& QStyleOptionTitleBar::operator=(const QStyleOptionTitleBar&)\u001b[m\u001b[K’ first required here\r\n",
      "  620 |     QStyleOptionTitleBar(const QStyleOptionTitleBar &other) : QStyleOptionComplex(Version, Type) { *this = \u001b[01;36m\u001b[Kother\u001b[m\u001b[K; }\r\n",
      "      |                                                                                                            \u001b[01;36m\u001b[K^~~~~\u001b[m\u001b[K\r\n",
      "\u001b[01m\u001b[K/home/student/.miniconda3/include/qt/QtWidgets/qstyleoption.h:\u001b[m\u001b[K In copy constructor ‘\u001b[01m\u001b[KQStyleOptionGroupBox::QStyleOptionGroupBox(const QStyleOptionGroupBox&)\u001b[m\u001b[K’:\r\n",
      "\u001b[01m\u001b[K/home/student/.miniconda3/include/qt/QtWidgets/qstyleoption.h:640:108:\u001b[m\u001b[K \u001b[01;35m\u001b[Kwarning: \u001b[m\u001b[Kimplicitly-declared ‘\u001b[01m\u001b[KQStyleOptionGroupBox& QStyleOptionGroupBox::operator=(const QStyleOptionGroupBox&)\u001b[m\u001b[K’ is deprecated [\u001b[01;35m\u001b[K-Wdeprecated-copy\u001b[m\u001b[K]\r\n",
      "  640 |     QStyleOptionGroupBox(const QStyleOptionGroupBox &other) : QStyleOptionComplex(Version, Type) { *this = \u001b[01;35m\u001b[Kother\u001b[m\u001b[K; }\r\n",
      "      |                                                                                                            \u001b[01;35m\u001b[K^~~~~\u001b[m\u001b[K\r\n",
      "\u001b[01m\u001b[K/home/student/.miniconda3/include/qt/QtWidgets/qstyleoption.h:640:5:\u001b[m\u001b[K \u001b[01;36m\u001b[Knote: \u001b[m\u001b[Kbecause ‘\u001b[01m\u001b[KQStyleOptionGroupBox\u001b[m\u001b[K’ has user-provided ‘\u001b[01m\u001b[KQStyleOptionGroupBox::QStyleOptionGroupBox(const QStyleOptionGroupBox&)\u001b[m\u001b[K’\r\n",
      "  640 |     \u001b[01;36m\u001b[KQStyleOptionGroupBox\u001b[m\u001b[K(const QStyleOptionGroupBox &other) : QStyleOptionComplex(Version, Type) { *this = other; }\r\n",
      "      |     \u001b[01;36m\u001b[K^~~~~~~~~~~~~~~~~~~~\u001b[m\u001b[K\r\n",
      "\u001b[01m\u001b[K/home/student/.miniconda3/include/qt/QtWidgets/qstyleoption.h:\u001b[m\u001b[K In member function ‘\u001b[01m\u001b[KQStyleOptionGroupBox& QStyleOptionGroupBox::operator=(const QStyleOptionGroupBox&)\u001b[m\u001b[K’:\r\n",
      "\u001b[01m\u001b[K/home/student/.miniconda3/include/qt/QtWidgets/qstyleoption.h:626:24:\u001b[m\u001b[K \u001b[01;35m\u001b[Kwarning: \u001b[m\u001b[Kimplicitly-declared ‘\u001b[01m\u001b[KQStyleOptionComplex& QStyleOptionComplex::operator=(const QStyleOptionComplex&)\u001b[m\u001b[K’ is deprecated [\u001b[01;35m\u001b[K-Wdeprecated-copy\u001b[m\u001b[K]\r\n",
      "  626 | class Q_WIDGETS_EXPORT \u001b[01;35m\u001b[KQStyleOptionGroupBox\u001b[m\u001b[K : public QStyleOptionComplex\r\n",
      "      |                        \u001b[01;35m\u001b[K^~~~~~~~~~~~~~~~~~~~\u001b[m\u001b[K\r\n",
      "\u001b[01m\u001b[K/home/student/.miniconda3/include/qt/QtWidgets/qstyleoption.h:510:5:\u001b[m\u001b[K \u001b[01;36m\u001b[Knote: \u001b[m\u001b[Kbecause ‘\u001b[01m\u001b[KQStyleOptionComplex\u001b[m\u001b[K’ has user-provided ‘\u001b[01m\u001b[KQStyleOptionComplex::QStyleOptionComplex(const QStyleOptionComplex&)\u001b[m\u001b[K’\r\n",
      "  510 |     \u001b[01;36m\u001b[KQStyleOptionComplex\u001b[m\u001b[K(const QStyleOptionComplex &other) : QStyleOption(Version, Type) { *this = other; }\r\n",
      "      |     \u001b[01;36m\u001b[K^~~~~~~~~~~~~~~~~~~\u001b[m\u001b[K\r\n",
      "\u001b[01m\u001b[K/home/student/.miniconda3/include/qt/QtWidgets/qstyleoption.h:\u001b[m\u001b[K In copy constructor ‘\u001b[01m\u001b[KQStyleOptionGroupBox::QStyleOptionGroupBox(const QStyleOptionGroupBox&)\u001b[m\u001b[K’:\r\n",
      "\u001b[01m\u001b[K/home/student/.miniconda3/include/qt/QtWidgets/qstyleoption.h:640:108:\u001b[m\u001b[K \u001b[01;36m\u001b[Knote: \u001b[m\u001b[Ksynthesized method ‘\u001b[01m\u001b[KQStyleOptionGroupBox& QStyleOptionGroupBox::operator=(const QStyleOptionGroupBox&)\u001b[m\u001b[K’ first required here\r\n",
      "  640 |     QStyleOptionGroupBox(const QStyleOptionGroupBox &other) : QStyleOptionComplex(Version, Type) { *this = \u001b[01;36m\u001b[Kother\u001b[m\u001b[K; }\r\n",
      "      |                                                                                                            \u001b[01;36m\u001b[K^~~~~\u001b[m\u001b[K\r\n",
      "\u001b[01m\u001b[K/home/student/.miniconda3/include/qt/QtWidgets/qstyleoption.h:\u001b[m\u001b[K In copy constructor ‘\u001b[01m\u001b[KQStyleOptionSizeGrip::QStyleOptionSizeGrip(const QStyleOptionSizeGrip&)\u001b[m\u001b[K’:\r\n",
      "\u001b[01m\u001b[K/home/student/.miniconda3/include/qt/QtWidgets/qstyleoption.h:654:108:\u001b[m\u001b[K \u001b[01;35m\u001b[Kwarning: \u001b[m\u001b[Kimplicitly-declared ‘\u001b[01m\u001b[KQStyleOptionSizeGrip& QStyleOptionSizeGrip::operator=(const QStyleOptionSizeGrip&)\u001b[m\u001b[K’ is deprecated [\u001b[01;35m\u001b[K-Wdeprecated-copy\u001b[m\u001b[K]\r\n",
      "  654 |     QStyleOptionSizeGrip(const QStyleOptionSizeGrip &other) : QStyleOptionComplex(Version, Type) { *this = \u001b[01;35m\u001b[Kother\u001b[m\u001b[K; }\r\n",
      "      |                                                                                                            \u001b[01;35m\u001b[K^~~~~\u001b[m\u001b[K\r\n",
      "\u001b[01m\u001b[K/home/student/.miniconda3/include/qt/QtWidgets/qstyleoption.h:654:5:\u001b[m\u001b[K \u001b[01;36m\u001b[Knote: \u001b[m\u001b[Kbecause ‘\u001b[01m\u001b[KQStyleOptionSizeGrip\u001b[m\u001b[K’ has user-provided ‘\u001b[01m\u001b[KQStyleOptionSizeGrip::QStyleOptionSizeGrip(const QStyleOptionSizeGrip&)\u001b[m\u001b[K’\r\n",
      "  654 |     \u001b[01;36m\u001b[KQStyleOptionSizeGrip\u001b[m\u001b[K(const QStyleOptionSizeGrip &other) : QStyleOptionComplex(Version, Type) { *this = other; }\r\n",
      "      |     \u001b[01;36m\u001b[K^~~~~~~~~~~~~~~~~~~~\u001b[m\u001b[K\r\n",
      "\u001b[01m\u001b[K/home/student/.miniconda3/include/qt/QtWidgets/qstyleoption.h:\u001b[m\u001b[K In member function ‘\u001b[01m\u001b[KQStyleOptionSizeGrip& QStyleOptionSizeGrip::operator=(const QStyleOptionSizeGrip&)\u001b[m\u001b[K’:\r\n",
      "\u001b[01m\u001b[K/home/student/.miniconda3/include/qt/QtWidgets/qstyleoption.h:645:24:\u001b[m\u001b[K \u001b[01;35m\u001b[Kwarning: \u001b[m\u001b[Kimplicitly-declared ‘\u001b[01m\u001b[KQStyleOptionComplex& QStyleOptionComplex::operator=(const QStyleOptionComplex&)\u001b[m\u001b[K’ is deprecated [\u001b[01;35m\u001b[K-Wdeprecated-copy\u001b[m\u001b[K]\r\n",
      "  645 | class Q_WIDGETS_EXPORT \u001b[01;35m\u001b[KQStyleOptionSizeGrip\u001b[m\u001b[K : public QStyleOptionComplex\r\n",
      "      |                        \u001b[01;35m\u001b[K^~~~~~~~~~~~~~~~~~~~\u001b[m\u001b[K\r\n",
      "\u001b[01m\u001b[K/home/student/.miniconda3/include/qt/QtWidgets/qstyleoption.h:510:5:\u001b[m\u001b[K \u001b[01;36m\u001b[Knote: \u001b[m\u001b[Kbecause ‘\u001b[01m\u001b[KQStyleOptionComplex\u001b[m\u001b[K’ has user-provided ‘\u001b[01m\u001b[KQStyleOptionComplex::QStyleOptionComplex(const QStyleOptionComplex&)\u001b[m\u001b[K’\r\n",
      "  510 |     \u001b[01;36m\u001b[KQStyleOptionComplex\u001b[m\u001b[K(const QStyleOptionComplex &other) : QStyleOption(Version, Type) { *this = other; }\r\n",
      "      |     \u001b[01;36m\u001b[K^~~~~~~~~~~~~~~~~~~\u001b[m\u001b[K\r\n",
      "\u001b[01m\u001b[K/home/student/.miniconda3/include/qt/QtWidgets/qstyleoption.h:\u001b[m\u001b[K In copy constructor ‘\u001b[01m\u001b[KQStyleOptionSizeGrip::QStyleOptionSizeGrip(const QStyleOptionSizeGrip&)\u001b[m\u001b[K’:\r\n",
      "\u001b[01m\u001b[K/home/student/.miniconda3/include/qt/QtWidgets/qstyleoption.h:654:108:\u001b[m\u001b[K \u001b[01;36m\u001b[Knote: \u001b[m\u001b[Ksynthesized method ‘\u001b[01m\u001b[KQStyleOptionSizeGrip& QStyleOptionSizeGrip::operator=(const QStyleOptionSizeGrip&)\u001b[m\u001b[K’ first required here\r\n",
      "  654 |     QStyleOptionSizeGrip(const QStyleOptionSizeGrip &other) : QStyleOptionComplex(Version, Type) { *this = \u001b[01;36m\u001b[Kother\u001b[m\u001b[K; }\r\n",
      "      |                                                                                                            \u001b[01;36m\u001b[K^~~~~\u001b[m\u001b[K\r\n",
      "\u001b[01m\u001b[K/home/student/.miniconda3/include/qt/QtWidgets/qstyleoption.h:\u001b[m\u001b[K In copy constructor ‘\u001b[01m\u001b[KQStyleOptionGraphicsItem::QStyleOptionGraphicsItem(const QStyleOptionGraphicsItem&)\u001b[m\u001b[K’:\r\n",
      "\u001b[01m\u001b[K/home/student/.miniconda3/include/qt/QtWidgets/qstyleoption.h:670:109:\u001b[m\u001b[K \u001b[01;35m\u001b[Kwarning: \u001b[m\u001b[Kimplicitly-declared ‘\u001b[01m\u001b[KQStyleOptionGraphicsItem& QStyleOptionGraphicsItem::operator=(const QStyleOptionGraphicsItem&)\u001b[m\u001b[K’ is deprecated [\u001b[01;35m\u001b[K-Wdeprecated-copy\u001b[m\u001b[K]\r\n",
      "  670 |     QStyleOptionGraphicsItem(const QStyleOptionGraphicsItem &other) : QStyleOption(Version, Type) { *this = \u001b[01;35m\u001b[Kother\u001b[m\u001b[K; }\r\n",
      "      |                                                                                                             \u001b[01;35m\u001b[K^~~~~\u001b[m\u001b[K\r\n",
      "\u001b[01m\u001b[K/home/student/.miniconda3/include/qt/QtWidgets/qstyleoption.h:670:5:\u001b[m\u001b[K \u001b[01;36m\u001b[Knote: \u001b[m\u001b[Kbecause ‘\u001b[01m\u001b[KQStyleOptionGraphicsItem\u001b[m\u001b[K’ has user-provided ‘\u001b[01m\u001b[KQStyleOptionGraphicsItem::QStyleOptionGraphicsItem(const QStyleOptionGraphicsItem&)\u001b[m\u001b[K’\r\n",
      "  670 |     \u001b[01;36m\u001b[KQStyleOptionGraphicsItem\u001b[m\u001b[K(const QStyleOptionGraphicsItem &other) : QStyleOption(Version, Type) { *this = other; }\r\n",
      "      |     \u001b[01;36m\u001b[K^~~~~~~~~~~~~~~~~~~~~~~~\u001b[m\u001b[K\r\n"
     ]
    },
    {
     "name": "stdout",
     "output_type": "stream",
     "text": [
      "g++ -Wl,-O1 -Wl,-rpath,/home/student/.miniconda3/lib -o acceleration tst_accelerationtest.o   -L/home/student/oop_2020_jakub_rychlicki/07_qt/02_exercise/build-project/tests/acceleration/../../utils/ -lutils -L/home/student/.miniconda3/lib -lQt5Test -lQt5Core -lpthread \n",
      "make[2]: Leaving directory '/home/student/oop_2020_jakub_rychlicki/07_qt/02_exercise/build-project/tests/acceleration'\n",
      "/home/student/.miniconda3/bin/moc -DQT_DEPRECATED_WARNINGS -DQT_NO_DEBUG -DQT_WIDGETS_LIB -DQT_GUI_LIB -DQT_CORE_LIB --include ./moc_predefs.h -I/home/student/.miniconda3/mkspecs/linux-g++ -I/home/student/oop_2020_jakub_rychlicki/07_qt/02_exercise/project/gui -I/home/student/oop_2020_jakub_rychlicki/07_qt/02_exercise/project/utils -I/home/student/.miniconda3/include/qt -I/home/student/.miniconda3/include/qt/QtWidgets -I/home/student/.miniconda3/include/qt/QtGui -I/home/student/.miniconda3/include/qt/QtCore -I. -I/usr/include/c++/9 -I/usr/include/x86_64-linux-gnu/c++/9 -I/usr/include/c++/9/backward -I/usr/lib/gcc/x86_64-linux-gnu/9/include -I/usr/local/include -I/usr/include/x86_64-linux-gnu -I/usr/include ../../project/gui/mainwindow.h -o moc_mainwindow.cpp\n",
      "g++ -Wl,-O1 -Wl,-rpath,/home/student/.miniconda3/lib -o displacement tst_displacementtest.o   -L/home/student/oop_2020_jakub_rychlicki/07_qt/02_exercise/build-project/tests/displacement/../../utils/ -lutils -L/home/student/.miniconda3/lib -lQt5Test -lQt5Core -lpthread \n",
      "make[2]: Leaving directory '/home/student/oop_2020_jakub_rychlicki/07_qt/02_exercise/build-project/tests/displacement'\n",
      "g++ -c -pipe -O2 -std=gnu++11 -Wall -W -D_REENTRANT -fPIC -DQT_DEPRECATED_WARNINGS -DQT_NO_DEBUG -DQT_WIDGETS_LIB -DQT_GUI_LIB -DQT_CORE_LIB -I../../project/gui -I. -I../../project/utils -I/home/student/.miniconda3/include/qt -I/home/student/.miniconda3/include/qt/QtWidgets -I/home/student/.miniconda3/include/qt/QtGui -I/home/student/.miniconda3/include/qt/QtCore -I. -I. -I/home/student/.miniconda3/mkspecs/linux-g++ -o moc_mainwindow.o moc_mainwindow.cpp\n",
      "In file included from \u001b[01m\u001b[K/home/student/.miniconda3/include/qt/QtCore/qabstractitemmodel.h:43\u001b[m\u001b[K,\n",
      "                 from \u001b[01m\u001b[K/home/student/.miniconda3/include/qt/QtCore/QtCore:7\u001b[m\u001b[K,\n",
      "                 from \u001b[01m\u001b[K/home/student/.miniconda3/include/qt/QtTest/QtTestDepends:3\u001b[m\u001b[K,\n",
      "                 from \u001b[01m\u001b[K/home/student/.miniconda3/include/qt/QtTest/QtTest:3\u001b[m\u001b[K,\n",
      "                 from \u001b[01m\u001b[K../../../project/tests/speed/tst_speedtest.cpp:1\u001b[m\u001b[K:\n",
      "\u001b[01m\u001b[K/home/student/.miniconda3/include/qt/QtCore/qvariant.h:\u001b[m\u001b[K In constructor ‘\u001b[01m\u001b[KQVariant::QVariant(QVariant&&)\u001b[m\u001b[K’:\n",
      "\u001b[01m\u001b[K/home/student/.miniconda3/include/qt/QtCore/qvariant.h:265:25:\u001b[m\u001b[K \u001b[01;35m\u001b[Kwarning: \u001b[m\u001b[Kimplicitly-declared ‘\u001b[01m\u001b[Kconstexpr QVariant::Private& QVariant::Private::operator=(const QVariant::Private&)\u001b[m\u001b[K’ is deprecated [\u001b[01;35m\u001b[K-Wdeprecated-copy\u001b[m\u001b[K]\n",
      "  265 |     { other.d = Private(\u001b[01;35m\u001b[K)\u001b[m\u001b[K; }\n",
      "      |                         \u001b[01;35m\u001b[K^\u001b[m\u001b[K\n",
      "\u001b[01m\u001b[K/home/student/.miniconda3/include/qt/QtCore/qvariant.h:380:16:\u001b[m\u001b[K \u001b[01;36m\u001b[Knote: \u001b[m\u001b[Kbecause ‘\u001b[01m\u001b[KQVariant::Private\u001b[m\u001b[K’ has user-provided ‘\u001b[01m\u001b[KQVariant::Private::Private(const QVariant::Private&)\u001b[m\u001b[K’\n",
      "  380 |         inline \u001b[01;36m\u001b[KPrivate\u001b[m\u001b[K(const Private &other) Q_DECL_NOTHROW\n",
      "      |                \u001b[01;36m\u001b[K^~~~~~~\u001b[m\u001b[K\n",
      "g++ -Wl,-O1 -Wl,-rpath,/home/student/.miniconda3/lib -o speed tst_speedtest.o   -L/home/student/oop_2020_jakub_rychlicki/07_qt/02_exercise/build-project/tests/speed/../../utils/ -lutils -L/home/student/.miniconda3/lib -lQt5Test -lQt5Core -lpthread \n",
      "g++ -Wl,-O1 -Wl,-rpath,/home/student/.miniconda3/lib -o gui main.o mainwindow.o moc_mainwindow.o   -L/home/student/oop_2020_jakub_rychlicki/07_qt/02_exercise/build-project/gui/../utils/ -lutils -L/home/student/.miniconda3/lib -lQt5Widgets -lQt5Gui -lQt5Core -lGL -lpthread \n",
      "make[2]: Leaving directory '/home/student/oop_2020_jakub_rychlicki/07_qt/02_exercise/build-project/tests/speed'\n",
      "make[1]: Leaving directory '/home/student/oop_2020_jakub_rychlicki/07_qt/02_exercise/build-project/tests'\n",
      "make[1]: Leaving directory '/home/student/oop_2020_jakub_rychlicki/07_qt/02_exercise/build-project/gui'\n"
     ]
    }
   ],
   "source": [
    "! cd build-project && make -j4"
   ]
  },
  {
   "cell_type": "code",
   "execution_count": 5,
   "metadata": {},
   "outputs": [
    {
     "name": "stdout",
     "output_type": "stream",
     "text": [
      "Acceleration:  10 Speed 2\n",
      "^C\n"
     ]
    }
   ],
   "source": [
    "! LD_LIBRARY_PATH=build-project/utils build-project/cli/cli"
   ]
  },
  {
   "cell_type": "markdown",
   "metadata": {},
   "source": [
    "Stop above cell."
   ]
  },
  {
   "cell_type": "code",
   "execution_count": 6,
   "metadata": {},
   "outputs": [
    {
     "name": "stdout",
     "output_type": "stream",
     "text": [
      "QStandardPaths: XDG_RUNTIME_DIR not set, defaulting to '/tmp/runtime-student'\r\n"
     ]
    }
   ],
   "source": [
    "! LD_LIBRARY_PATH=build-project/utils build-project/gui/gui"
   ]
  },
  {
   "cell_type": "markdown",
   "metadata": {},
   "source": [
    "Stop above cell or close the window."
   ]
  },
  {
   "cell_type": "code",
   "execution_count": 7,
   "metadata": {},
   "outputs": [
    {
     "name": "stdout",
     "output_type": "stream",
     "text": [
      "********* Start testing of SpeedTest *********\r\n",
      "Config: Using QtTest library 5.9.7, Qt 5.9.7 (x86_64-little_endian-lp64 shared (dynamic) release build; by GCC 7.3.0)\r\n",
      "PASS   : SpeedTest::initTestCase()\r\n",
      "PASS   : SpeedTest::sTest()\r\n",
      "PASS   : SpeedTest::cleanupTestCase()\r\n",
      "Totals: 3 passed, 0 failed, 0 skipped, 0 blacklisted, 1ms\r\n",
      "********* Finished testing of SpeedTest *********\r\n"
     ]
    }
   ],
   "source": [
    "! LD_LIBRARY_PATH=build-project/utils build-project/tests/speed/speed"
   ]
  },
  {
   "cell_type": "code",
   "execution_count": 8,
   "metadata": {},
   "outputs": [
    {
     "name": "stdout",
     "output_type": "stream",
     "text": [
      "********* Start testing of AccelerationTest *********\r\n",
      "Config: Using QtTest library 5.9.7, Qt 5.9.7 (x86_64-little_endian-lp64 shared (dynamic) release build; by GCC 7.3.0)\r\n",
      "PASS   : AccelerationTest::initTestCase()\r\n",
      "PASS   : AccelerationTest::aTest()\r\n",
      "PASS   : AccelerationTest::cleanupTestCase()\r\n",
      "Totals: 3 passed, 0 failed, 0 skipped, 0 blacklisted, 1ms\r\n",
      "********* Finished testing of AccelerationTest *********\r\n"
     ]
    }
   ],
   "source": [
    "! LD_LIBRARY_PATH=build-project/utils build-project/tests/acceleration/acceleration"
   ]
  },
  {
   "cell_type": "code",
   "execution_count": 9,
   "metadata": {},
   "outputs": [
    {
     "name": "stdout",
     "output_type": "stream",
     "text": [
      "********* Start testing of DisplacementTest *********\r\n",
      "Config: Using QtTest library 5.9.7, Qt 5.9.7 (x86_64-little_endian-lp64 shared (dynamic) release build; by GCC 7.3.0)\r\n",
      "PASS   : DisplacementTest::initTestCase()\r\n",
      "PASS   : DisplacementTest::dTest()\r\n",
      "PASS   : DisplacementTest::cleanupTestCase()\r\n",
      "Totals: 3 passed, 0 failed, 0 skipped, 0 blacklisted, 1ms\r\n",
      "********* Finished testing of DisplacementTest *********\r\n"
     ]
    }
   ],
   "source": [
    "! LD_LIBRARY_PATH=build-project/utils build-project/tests/displacement/displacement"
   ]
  },
  {
   "cell_type": "code",
   "execution_count": null,
   "metadata": {},
   "outputs": [],
   "source": []
  }
 ],
 "metadata": {
  "kernelspec": {
   "display_name": "Python 3",
   "language": "python",
   "name": "python3"
  },
  "language_info": {
   "codemirror_mode": {
    "name": "ipython",
    "version": 3
   },
   "file_extension": ".py",
   "mimetype": "text/x-python",
   "name": "python",
   "nbconvert_exporter": "python",
   "pygments_lexer": "ipython3",
   "version": "3.8.3"
  }
 },
 "nbformat": 4,
 "nbformat_minor": 4
}
